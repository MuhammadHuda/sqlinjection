{
 "cells": [
  {
   "cell_type": "markdown",
   "id": "strategic-roller",
   "metadata": {},
   "source": [
    "### Import Library"
   ]
  },
  {
   "cell_type": "code",
   "execution_count": 44,
   "id": "complimentary-oriental",
   "metadata": {
    "ExecuteTime": {
     "end_time": "2021-05-25T06:59:36.880016Z",
     "start_time": "2021-05-25T06:59:36.872064Z"
    }
   },
   "outputs": [],
   "source": [
    "import pandas as pd\n",
    "from urllib.parse import unquote\n",
    "import nltk\n",
    "from nltk.tokenize import word_tokenize\n",
    "from sklearn.feature_extraction.text import CountVectorizer\n",
    "import re\n",
    "import numpy as np\n",
    "import matplotlib.pyplot as plt\n",
    "from imblearn.over_sampling import SMOTE\n",
    "import seaborn as sns\n",
    "import pickle\n",
    "import xgboost\n",
    "\n",
    "# Machine Learning\n",
    "from sklearn.model_selection import train_test_split\n",
    "from sklearn.metrics import accuracy_score, confusion_matrix\n",
    "from sklearn.metrics import classification_report\n",
    "from sklearn.naive_bayes import GaussianNB\n",
    "from sklearn import svm\n",
    "from sklearn import tree\n",
    "from sklearn.ensemble import RandomForestClassifier\n",
    "from sklearn.model_selection import cross_val_score"
   ]
  },
  {
   "cell_type": "code",
   "execution_count": 2,
   "id": "owned-genome",
   "metadata": {
    "ExecuteTime": {
     "end_time": "2021-05-25T06:20:59.910589Z",
     "start_time": "2021-05-25T06:20:59.900615Z"
    }
   },
   "outputs": [],
   "source": [
    "# Configure\n",
    "pd.set_option('display.max_rows', None)\n",
    "pd.set_option('display.max_columns', None)\n",
    "pd.set_option('display.max_colwidth', 100)"
   ]
  },
  {
   "cell_type": "markdown",
   "id": "familiar-tournament",
   "metadata": {},
   "source": [
    "### Import Data"
   ]
  },
  {
   "cell_type": "code",
   "execution_count": 4,
   "id": "friendly-pleasure",
   "metadata": {
    "ExecuteTime": {
     "end_time": "2021-05-25T06:21:51.520812Z",
     "start_time": "2021-05-25T06:21:51.502887Z"
    }
   },
   "outputs": [],
   "source": [
    "# Attack Data Sql\n",
    "df_at = pd.read_csv('attack_sql2.txt', delimiter = \"\\t\", header=None)\n",
    "df_at.columns = ['Log']\n",
    "df_at['Label'] =  1\n",
    "\n",
    "df_no = pd.read_csv('safe_sql.txt', delimiter = \"\\t\", header=None)\n",
    "df_no.columns = ['Log']\n",
    "df_no['Label'] = 0"
   ]
  },
  {
   "cell_type": "code",
   "execution_count": 14,
   "id": "becoming-equality",
   "metadata": {
    "ExecuteTime": {
     "end_time": "2021-05-25T06:26:38.973890Z",
     "start_time": "2021-05-25T06:26:38.969897Z"
    }
   },
   "outputs": [],
   "source": [
    "df = df_at.append(df_no, ignore_index=True, sort=False)"
   ]
  },
  {
   "cell_type": "code",
   "execution_count": 8,
   "id": "peripheral-tanzania",
   "metadata": {
    "ExecuteTime": {
     "end_time": "2021-05-25T06:23:46.413854Z",
     "start_time": "2021-05-25T06:23:46.406857Z"
    }
   },
   "outputs": [
    {
     "data": {
      "text/html": [
       "<div>\n",
       "<style scoped>\n",
       "    .dataframe tbody tr th:only-of-type {\n",
       "        vertical-align: middle;\n",
       "    }\n",
       "\n",
       "    .dataframe tbody tr th {\n",
       "        vertical-align: top;\n",
       "    }\n",
       "\n",
       "    .dataframe thead th {\n",
       "        text-align: right;\n",
       "    }\n",
       "</style>\n",
       "<table border=\"1\" class=\"dataframe\">\n",
       "  <thead>\n",
       "    <tr style=\"text-align: right;\">\n",
       "      <th></th>\n",
       "      <th>Log</th>\n",
       "      <th>Label</th>\n",
       "    </tr>\n",
       "  </thead>\n",
       "  <tbody>\n",
       "    <tr>\n",
       "      <th>0</th>\n",
       "      <td>36.72.215.113 - - [23/Apr/2021:02:30:47 +0000] \"GET /mod.php?kategori=lounge&amp;id=4%20order%20by%2...</td>\n",
       "      <td>1</td>\n",
       "    </tr>\n",
       "    <tr>\n",
       "      <th>1</th>\n",
       "      <td>36.72.215.113 - - [23/Apr/2021:02:30:52 +0000] \"GET /mod.php?kategori=lounge&amp;id=4%20order%20by%2...</td>\n",
       "      <td>1</td>\n",
       "    </tr>\n",
       "    <tr>\n",
       "      <th>2</th>\n",
       "      <td>36.72.215.113 - - [23/Apr/2021:02:30:58 +0000] \"GET /mod.php?kategori=lounge&amp;id=4%20order%20by%2...</td>\n",
       "      <td>1</td>\n",
       "    </tr>\n",
       "    <tr>\n",
       "      <th>3</th>\n",
       "      <td>36.72.215.113 - - [23/Apr/2021:02:31:06 +0000] \"GET /mod.php?kategori=lounge&amp;id=4%20order%20by%2...</td>\n",
       "      <td>1</td>\n",
       "    </tr>\n",
       "    <tr>\n",
       "      <th>4</th>\n",
       "      <td>36.72.215.113 - - [23/Apr/2021:02:31:09 +0000] \"GET /mod.php?kategori=lounge&amp;id=4%20order%20by%2...</td>\n",
       "      <td>1</td>\n",
       "    </tr>\n",
       "  </tbody>\n",
       "</table>\n",
       "</div>"
      ],
      "text/plain": [
       "                                                                                                   Log  \\\n",
       "0  36.72.215.113 - - [23/Apr/2021:02:30:47 +0000] \"GET /mod.php?kategori=lounge&id=4%20order%20by%2...   \n",
       "1  36.72.215.113 - - [23/Apr/2021:02:30:52 +0000] \"GET /mod.php?kategori=lounge&id=4%20order%20by%2...   \n",
       "2  36.72.215.113 - - [23/Apr/2021:02:30:58 +0000] \"GET /mod.php?kategori=lounge&id=4%20order%20by%2...   \n",
       "3  36.72.215.113 - - [23/Apr/2021:02:31:06 +0000] \"GET /mod.php?kategori=lounge&id=4%20order%20by%2...   \n",
       "4  36.72.215.113 - - [23/Apr/2021:02:31:09 +0000] \"GET /mod.php?kategori=lounge&id=4%20order%20by%2...   \n",
       "\n",
       "   Label  \n",
       "0      1  \n",
       "1      1  \n",
       "2      1  \n",
       "3      1  \n",
       "4      1  "
      ]
     },
     "execution_count": 8,
     "metadata": {},
     "output_type": "execute_result"
    }
   ],
   "source": [
    "df.head()"
   ]
  },
  {
   "cell_type": "code",
   "execution_count": 10,
   "id": "affiliated-inspiration",
   "metadata": {
    "ExecuteTime": {
     "end_time": "2021-05-25T06:24:05.059640Z",
     "start_time": "2021-05-25T06:24:04.859641Z"
    }
   },
   "outputs": [
    {
     "data": {
      "text/plain": [
       "<AxesSubplot:title={'center':'Count (target)'}>"
      ]
     },
     "execution_count": 10,
     "metadata": {},
     "output_type": "execute_result"
    },
    {
     "data": {
      "image/png": "[encoded data removed]",
      "text/plain": [
       "<Figure size 432x288 with 1 Axes>"
      ]
     },
     "metadata": {
      "needs_background": "light"
     },
     "output_type": "display_data"
    }
   ],
   "source": [
    "df.Label.value_counts().plot(kind='bar', title='Count (target)')"
   ]
  },
  {
   "cell_type": "markdown",
   "id": "academic-drunk",
   "metadata": {},
   "source": [
    "### Preprocessing"
   ]
  },
  {
   "cell_type": "code",
   "execution_count": 6,
   "id": "focused-arcade",
   "metadata": {
    "ExecuteTime": {
     "end_time": "2021-05-25T06:22:45.155409Z",
     "start_time": "2021-05-25T06:22:45.128475Z"
    }
   },
   "outputs": [],
   "source": [
    "def preprocessing(df):\n",
    "    df['Ip'] = df['Log'].str.split(' - - ').str[0]\n",
    "\n",
    "    df['Time'] = df['Log'].str.split('] ').str[0]\n",
    "    df['Time'] = df['Time'].str.split(' - - ').str[1]+']'\n",
    "\n",
    "    df['Log2'] = df['Log'].str.split('] ').str[1]\n",
    "\n",
    "\n",
    "    df['Request'] = df['Log2'].str.split('\"').str[1]\n",
    "    df['Request'] = df['Request'].apply(lambda x : re.sub(r'^.*?php?', '', x))\n",
    "\n",
    "    df['Angka'] = df['Log2'].str.split('\"').str[2]\n",
    "\n",
    "    df['Kembalian'] = df['Log2'].str.split('\"').str[3]\n",
    "\n",
    "    df['User_Header'] = df['Log2'].str.split('\"').str[-2]\n",
    "\n",
    "    df.drop(['Log','Log2','Angka','Kembalian','User_Header'], axis=1, inplace=True)\n",
    "    \n",
    "    return df\n",
    "\n",
    "def preprocess(a):\n",
    "    a = a.lower().replace('(',' ').replace(')',' ').strip()\n",
    "    a = ' '.join(a.split())\n",
    "    a = a.split()\n",
    "    return a\n",
    "\n",
    "def count_string2(data, list_words):\n",
    "    total = 0\n",
    "    for word in list_words:\n",
    "        counter = data.count(word)\n",
    "        total += counter\n",
    "    return total\n",
    "\n",
    "def check_always_true(data):\n",
    "    return bool(re.findall(r\"\\d=\\d\",data))\n",
    "\n",
    "def feature_engineering(df):\n",
    "    df['Request1'] = df['Request'].str.replace('GET /', '')\n",
    "    df['Request1'] = df['Request1'].str.replace('POST /', '')\n",
    "    df['Request1'] = df['Request1'].str.replace('HTTP/1.1', '')\n",
    "    df['Request1'] = df['Request1'].str.lower()\n",
    "    df['Request2'] = df['Request1'].apply(lambda x : unquote(x))\n",
    "\n",
    "    df['Comment_Count'] = df['Request2'].apply(lambda x : count_string2(x, ['--','/**/']))\n",
    "    df['Operator_Count'] = df['Request2'].apply(lambda x : count_string2(x, ['<','>','<=','>=', '==', '!=','&&', '||' '<<', '>>', '|', '&', '+', '%', '^']))\n",
    "    df['SqlKeyword_Count'] = df['Request2'].apply(lambda x : count_string2(x, ['select', 'update', 'insert', 'create', 'drop', 'alter', 'rename', 'group', 'union', 'having', \n",
    "                                                                            'concat', 'order','values', 'declare', 'substring', 'table']))\n",
    "    df.loc[df['SqlKeyword_Count']>=1, 'Any_SQL_Keyword'] = 1\n",
    "    df.loc[df['SqlKeyword_Count']<1, 'Any_SQL_Keyword'] = 0\n",
    "    df['Any_SQL_Keyword'] = df['Any_SQL_Keyword'].astype(bool)\n",
    "\n",
    "    df['Semicolon_Count'] = df['Request2'].apply(lambda x : count_string2(x, ';'))\n",
    "\n",
    "    df['Any_Always_True'] = df['Request2'].apply(lambda x: check_always_true(x))\n",
    "\n",
    "    df = df[[ 'Label', 'Ip', 'Time','Request2',\n",
    "           'Comment_Count', 'Operator_Count',\n",
    "           'SqlKeyword_Count', 'Any_Always_True','Any_SQL_Keyword','Semicolon_Count']]\n",
    "    \n",
    "    return df\n",
    "\n",
    "def clean_text(text):\n",
    "    text_rc = re.sub('[0-9]+', '', text)\n",
    "    tokens = re.split('\\W+', text_rc)    # tokenization\n",
    "    return tokens\n",
    "\n",
    "def term_frequency(df):\n",
    "    vectorizer = CountVectorizer(analyzer=clean_text, decode_error=\"replace\",vocabulary=pickle.load(open(\"vocab.pkl\", \"rb\")))\n",
    "    tfidf = vectorizer.fit_transform(df['Request2'])\n",
    "\n",
    "    vect_df = pd.DataFrame(tfidf.toarray(), columns=vectorizer.get_feature_names())\n",
    "    vect_df = vect_df[['select', 'union', 'concat', 'null', 'like', 'or','exec','and','having','char', 'order']]\n",
    "    df_tf = pd.concat([df.reset_index(drop=True), vect_df.reset_index(drop=True)], axis=1)\n",
    "    pickle.dump(vectorizer.vocabulary_,open(\"vocab.pkl\",\"wb\"))\n",
    "\n",
    "    return df_tf\n",
    "\n",
    "def pipeline(df):\n",
    "    test_bersih = preprocessing(df)\n",
    "    test_fe = feature_engineering(test_bersih)\n",
    "    test_tf = term_frequency(test_fe)\n",
    "    \n",
    "    return test_tf"
   ]
  },
  {
   "cell_type": "markdown",
   "id": "aware-cherry",
   "metadata": {},
   "source": [
    "#### Split Data"
   ]
  },
  {
   "cell_type": "code",
   "execution_count": 15,
   "id": "faced-wheel",
   "metadata": {
    "ExecuteTime": {
     "end_time": "2021-05-25T06:26:42.003795Z",
     "start_time": "2021-05-25T06:26:41.964939Z"
    }
   },
   "outputs": [],
   "source": [
    "df_split = preprocessing(df)"
   ]
  },
  {
   "cell_type": "code",
   "execution_count": 16,
   "id": "synthetic-silicon",
   "metadata": {
    "ExecuteTime": {
     "end_time": "2021-05-25T06:26:45.956403Z",
     "start_time": "2021-05-25T06:26:45.945459Z"
    }
   },
   "outputs": [
    {
     "data": {
      "text/html": [
       "<div>\n",
       "<style scoped>\n",
       "    .dataframe tbody tr th:only-of-type {\n",
       "        vertical-align: middle;\n",
       "    }\n",
       "\n",
       "    .dataframe tbody tr th {\n",
       "        vertical-align: top;\n",
       "    }\n",
       "\n",
       "    .dataframe thead th {\n",
       "        text-align: right;\n",
       "    }\n",
       "</style>\n",
       "<table border=\"1\" class=\"dataframe\">\n",
       "  <thead>\n",
       "    <tr style=\"text-align: right;\">\n",
       "      <th></th>\n",
       "      <th>Label</th>\n",
       "      <th>Ip</th>\n",
       "      <th>Time</th>\n",
       "      <th>Request</th>\n",
       "    </tr>\n",
       "  </thead>\n",
       "  <tbody>\n",
       "    <tr>\n",
       "      <th>0</th>\n",
       "      <td>1</td>\n",
       "      <td>36.72.215.113</td>\n",
       "      <td>[23/Apr/2021:02:30:47 +0000]</td>\n",
       "      <td>?kategori=lounge&amp;id=4%20order%20by%2010--%20- HTTP/1.1</td>\n",
       "    </tr>\n",
       "    <tr>\n",
       "      <th>1</th>\n",
       "      <td>1</td>\n",
       "      <td>36.72.215.113</td>\n",
       "      <td>[23/Apr/2021:02:30:52 +0000]</td>\n",
       "      <td>?kategori=lounge&amp;id=4%20order%20by%20106--%20- HTTP/1.1</td>\n",
       "    </tr>\n",
       "    <tr>\n",
       "      <th>2</th>\n",
       "      <td>1</td>\n",
       "      <td>36.72.215.113</td>\n",
       "      <td>[23/Apr/2021:02:30:58 +0000]</td>\n",
       "      <td>?kategori=lounge&amp;id=4%20order%20by%20101--%20- HTTP/1.1</td>\n",
       "    </tr>\n",
       "    <tr>\n",
       "      <th>3</th>\n",
       "      <td>1</td>\n",
       "      <td>36.72.215.113</td>\n",
       "      <td>[23/Apr/2021:02:31:06 +0000]</td>\n",
       "      <td>?kategori=lounge&amp;id=4%20order%20by%201--%20- HTTP/1.1</td>\n",
       "    </tr>\n",
       "    <tr>\n",
       "      <th>4</th>\n",
       "      <td>1</td>\n",
       "      <td>36.72.215.113</td>\n",
       "      <td>[23/Apr/2021:02:31:09 +0000]</td>\n",
       "      <td>?kategori=lounge&amp;id=4%20order%20by%202--%20- HTTP/1.1</td>\n",
       "    </tr>\n",
       "  </tbody>\n",
       "</table>\n",
       "</div>"
      ],
      "text/plain": [
       "   Label             Ip                          Time  \\\n",
       "0      1  36.72.215.113  [23/Apr/2021:02:30:47 +0000]   \n",
       "1      1  36.72.215.113  [23/Apr/2021:02:30:52 +0000]   \n",
       "2      1  36.72.215.113  [23/Apr/2021:02:30:58 +0000]   \n",
       "3      1  36.72.215.113  [23/Apr/2021:02:31:06 +0000]   \n",
       "4      1  36.72.215.113  [23/Apr/2021:02:31:09 +0000]   \n",
       "\n",
       "                                                   Request  \n",
       "0   ?kategori=lounge&id=4%20order%20by%2010--%20- HTTP/1.1  \n",
       "1  ?kategori=lounge&id=4%20order%20by%20106--%20- HTTP/1.1  \n",
       "2  ?kategori=lounge&id=4%20order%20by%20101--%20- HTTP/1.1  \n",
       "3    ?kategori=lounge&id=4%20order%20by%201--%20- HTTP/1.1  \n",
       "4    ?kategori=lounge&id=4%20order%20by%202--%20- HTTP/1.1  "
      ]
     },
     "execution_count": 16,
     "metadata": {},
     "output_type": "execute_result"
    }
   ],
   "source": [
    "df_split.head()"
   ]
  },
  {
   "cell_type": "markdown",
   "id": "qualified-passage",
   "metadata": {},
   "source": [
    "#### Feature Engineering"
   ]
  },
  {
   "cell_type": "code",
   "execution_count": 17,
   "id": "ecological-stephen",
   "metadata": {
    "ExecuteTime": {
     "end_time": "2021-05-25T06:29:45.129488Z",
     "start_time": "2021-05-25T06:29:45.086575Z"
    }
   },
   "outputs": [],
   "source": [
    "df_fe = feature_engineering(df_split)"
   ]
  },
  {
   "cell_type": "code",
   "execution_count": 18,
   "id": "forward-percentage",
   "metadata": {
    "ExecuteTime": {
     "end_time": "2021-05-25T06:29:49.312874Z",
     "start_time": "2021-05-25T06:29:49.299910Z"
    }
   },
   "outputs": [
    {
     "data": {
      "text/html": [
       "<div>\n",
       "<style scoped>\n",
       "    .dataframe tbody tr th:only-of-type {\n",
       "        vertical-align: middle;\n",
       "    }\n",
       "\n",
       "    .dataframe tbody tr th {\n",
       "        vertical-align: top;\n",
       "    }\n",
       "\n",
       "    .dataframe thead th {\n",
       "        text-align: right;\n",
       "    }\n",
       "</style>\n",
       "<table border=\"1\" class=\"dataframe\">\n",
       "  <thead>\n",
       "    <tr style=\"text-align: right;\">\n",
       "      <th></th>\n",
       "      <th>Label</th>\n",
       "      <th>Ip</th>\n",
       "      <th>Time</th>\n",
       "      <th>Request2</th>\n",
       "      <th>Comment_Count</th>\n",
       "      <th>Operator_Count</th>\n",
       "      <th>SqlKeyword_Count</th>\n",
       "      <th>Any_Always_True</th>\n",
       "      <th>Any_SQL_Keyword</th>\n",
       "      <th>Semicolon_Count</th>\n",
       "    </tr>\n",
       "  </thead>\n",
       "  <tbody>\n",
       "    <tr>\n",
       "      <th>0</th>\n",
       "      <td>1</td>\n",
       "      <td>36.72.215.113</td>\n",
       "      <td>[23/Apr/2021:02:30:47 +0000]</td>\n",
       "      <td>?kategori=lounge&amp;id=4 order by 10-- -</td>\n",
       "      <td>1</td>\n",
       "      <td>1</td>\n",
       "      <td>1</td>\n",
       "      <td>False</td>\n",
       "      <td>True</td>\n",
       "      <td>0</td>\n",
       "    </tr>\n",
       "    <tr>\n",
       "      <th>1</th>\n",
       "      <td>1</td>\n",
       "      <td>36.72.215.113</td>\n",
       "      <td>[23/Apr/2021:02:30:52 +0000]</td>\n",
       "      <td>?kategori=lounge&amp;id=4 order by 106-- -</td>\n",
       "      <td>1</td>\n",
       "      <td>1</td>\n",
       "      <td>1</td>\n",
       "      <td>False</td>\n",
       "      <td>True</td>\n",
       "      <td>0</td>\n",
       "    </tr>\n",
       "    <tr>\n",
       "      <th>2</th>\n",
       "      <td>1</td>\n",
       "      <td>36.72.215.113</td>\n",
       "      <td>[23/Apr/2021:02:30:58 +0000]</td>\n",
       "      <td>?kategori=lounge&amp;id=4 order by 101-- -</td>\n",
       "      <td>1</td>\n",
       "      <td>1</td>\n",
       "      <td>1</td>\n",
       "      <td>False</td>\n",
       "      <td>True</td>\n",
       "      <td>0</td>\n",
       "    </tr>\n",
       "    <tr>\n",
       "      <th>3</th>\n",
       "      <td>1</td>\n",
       "      <td>36.72.215.113</td>\n",
       "      <td>[23/Apr/2021:02:31:06 +0000]</td>\n",
       "      <td>?kategori=lounge&amp;id=4 order by 1-- -</td>\n",
       "      <td>1</td>\n",
       "      <td>1</td>\n",
       "      <td>1</td>\n",
       "      <td>False</td>\n",
       "      <td>True</td>\n",
       "      <td>0</td>\n",
       "    </tr>\n",
       "    <tr>\n",
       "      <th>4</th>\n",
       "      <td>1</td>\n",
       "      <td>36.72.215.113</td>\n",
       "      <td>[23/Apr/2021:02:31:09 +0000]</td>\n",
       "      <td>?kategori=lounge&amp;id=4 order by 2-- -</td>\n",
       "      <td>1</td>\n",
       "      <td>1</td>\n",
       "      <td>1</td>\n",
       "      <td>False</td>\n",
       "      <td>True</td>\n",
       "      <td>0</td>\n",
       "    </tr>\n",
       "  </tbody>\n",
       "</table>\n",
       "</div>"
      ],
      "text/plain": [
       "   Label             Ip                          Time  \\\n",
       "0      1  36.72.215.113  [23/Apr/2021:02:30:47 +0000]   \n",
       "1      1  36.72.215.113  [23/Apr/2021:02:30:52 +0000]   \n",
       "2      1  36.72.215.113  [23/Apr/2021:02:30:58 +0000]   \n",
       "3      1  36.72.215.113  [23/Apr/2021:02:31:06 +0000]   \n",
       "4      1  36.72.215.113  [23/Apr/2021:02:31:09 +0000]   \n",
       "\n",
       "                                  Request2  Comment_Count  Operator_Count  \\\n",
       "0   ?kategori=lounge&id=4 order by 10-- -               1               1   \n",
       "1  ?kategori=lounge&id=4 order by 106-- -               1               1   \n",
       "2  ?kategori=lounge&id=4 order by 101-- -               1               1   \n",
       "3    ?kategori=lounge&id=4 order by 1-- -               1               1   \n",
       "4    ?kategori=lounge&id=4 order by 2-- -               1               1   \n",
       "\n",
       "   SqlKeyword_Count  Any_Always_True  Any_SQL_Keyword  Semicolon_Count  \n",
       "0                 1            False             True                0  \n",
       "1                 1            False             True                0  \n",
       "2                 1            False             True                0  \n",
       "3                 1            False             True                0  \n",
       "4                 1            False             True                0  "
      ]
     },
     "execution_count": 18,
     "metadata": {},
     "output_type": "execute_result"
    }
   ],
   "source": [
    "df_fe.head()"
   ]
  },
  {
   "cell_type": "markdown",
   "id": "wound-alliance",
   "metadata": {},
   "source": [
    "#### Term Frequency & TF-Idf"
   ]
  },
  {
   "cell_type": "code",
   "execution_count": 19,
   "id": "prompt-single",
   "metadata": {
    "ExecuteTime": {
     "end_time": "2021-05-25T06:31:01.329323Z",
     "start_time": "2021-05-25T06:31:01.304391Z"
    }
   },
   "outputs": [],
   "source": [
    "df_tf = term_frequency(df_fe)"
   ]
  },
  {
   "cell_type": "code",
   "execution_count": 21,
   "id": "funky-screen",
   "metadata": {
    "ExecuteTime": {
     "end_time": "2021-05-25T06:32:02.256289Z",
     "start_time": "2021-05-25T06:32:02.239336Z"
    }
   },
   "outputs": [
    {
     "data": {
      "text/html": [
       "<div>\n",
       "<style scoped>\n",
       "    .dataframe tbody tr th:only-of-type {\n",
       "        vertical-align: middle;\n",
       "    }\n",
       "\n",
       "    .dataframe tbody tr th {\n",
       "        vertical-align: top;\n",
       "    }\n",
       "\n",
       "    .dataframe thead th {\n",
       "        text-align: right;\n",
       "    }\n",
       "</style>\n",
       "<table border=\"1\" class=\"dataframe\">\n",
       "  <thead>\n",
       "    <tr style=\"text-align: right;\">\n",
       "      <th></th>\n",
       "      <th>Label</th>\n",
       "      <th>Ip</th>\n",
       "      <th>Time</th>\n",
       "      <th>Request2</th>\n",
       "      <th>Comment_Count</th>\n",
       "      <th>Operator_Count</th>\n",
       "      <th>SqlKeyword_Count</th>\n",
       "      <th>Any_Always_True</th>\n",
       "      <th>Any_SQL_Keyword</th>\n",
       "      <th>Semicolon_Count</th>\n",
       "      <th>select</th>\n",
       "      <th>union</th>\n",
       "      <th>concat</th>\n",
       "      <th>null</th>\n",
       "      <th>like</th>\n",
       "      <th>or</th>\n",
       "      <th>exec</th>\n",
       "      <th>and</th>\n",
       "      <th>having</th>\n",
       "      <th>char</th>\n",
       "      <th>order</th>\n",
       "    </tr>\n",
       "  </thead>\n",
       "  <tbody>\n",
       "    <tr>\n",
       "      <th>758</th>\n",
       "      <td>0</td>\n",
       "      <td>103.142.110.26</td>\n",
       "      <td>[23/Apr/2021:01:51:15 +0000]</td>\n",
       "      <td>images/right-bg.png</td>\n",
       "      <td>0</td>\n",
       "      <td>0</td>\n",
       "      <td>0</td>\n",
       "      <td>False</td>\n",
       "      <td>False</td>\n",
       "      <td>0</td>\n",
       "      <td>0</td>\n",
       "      <td>0</td>\n",
       "      <td>0</td>\n",
       "      <td>0</td>\n",
       "      <td>0</td>\n",
       "      <td>0</td>\n",
       "      <td>0</td>\n",
       "      <td>0</td>\n",
       "      <td>0</td>\n",
       "      <td>0</td>\n",
       "      <td>0</td>\n",
       "    </tr>\n",
       "    <tr>\n",
       "      <th>759</th>\n",
       "      <td>0</td>\n",
       "      <td>103.142.110.26</td>\n",
       "      <td>[23/Apr/2021:01:51:15 +0000]</td>\n",
       "      <td>images/line_right.png</td>\n",
       "      <td>0</td>\n",
       "      <td>0</td>\n",
       "      <td>0</td>\n",
       "      <td>False</td>\n",
       "      <td>False</td>\n",
       "      <td>0</td>\n",
       "      <td>0</td>\n",
       "      <td>0</td>\n",
       "      <td>0</td>\n",
       "      <td>0</td>\n",
       "      <td>0</td>\n",
       "      <td>0</td>\n",
       "      <td>0</td>\n",
       "      <td>0</td>\n",
       "      <td>0</td>\n",
       "      <td>0</td>\n",
       "      <td>0</td>\n",
       "    </tr>\n",
       "    <tr>\n",
       "      <th>760</th>\n",
       "      <td>0</td>\n",
       "      <td>103.142.110.26</td>\n",
       "      <td>[23/Apr/2021:01:51:15 +0000]</td>\n",
       "      <td>images/line.png</td>\n",
       "      <td>0</td>\n",
       "      <td>0</td>\n",
       "      <td>0</td>\n",
       "      <td>False</td>\n",
       "      <td>False</td>\n",
       "      <td>0</td>\n",
       "      <td>0</td>\n",
       "      <td>0</td>\n",
       "      <td>0</td>\n",
       "      <td>0</td>\n",
       "      <td>0</td>\n",
       "      <td>0</td>\n",
       "      <td>0</td>\n",
       "      <td>0</td>\n",
       "      <td>0</td>\n",
       "      <td>0</td>\n",
       "      <td>0</td>\n",
       "    </tr>\n",
       "    <tr>\n",
       "      <th>761</th>\n",
       "      <td>0</td>\n",
       "      <td>103.142.110.26</td>\n",
       "      <td>[23/Apr/2021:01:51:15 +0000]</td>\n",
       "      <td>images/footer-bg.png</td>\n",
       "      <td>0</td>\n",
       "      <td>0</td>\n",
       "      <td>0</td>\n",
       "      <td>False</td>\n",
       "      <td>False</td>\n",
       "      <td>0</td>\n",
       "      <td>0</td>\n",
       "      <td>0</td>\n",
       "      <td>0</td>\n",
       "      <td>0</td>\n",
       "      <td>0</td>\n",
       "      <td>0</td>\n",
       "      <td>0</td>\n",
       "      <td>0</td>\n",
       "      <td>0</td>\n",
       "      <td>0</td>\n",
       "      <td>0</td>\n",
       "    </tr>\n",
       "    <tr>\n",
       "      <th>762</th>\n",
       "      <td>0</td>\n",
       "      <td>103.142.110.26</td>\n",
       "      <td>[23/Apr/2021:01:51:16 +0000]</td>\n",
       "      <td>favicon.ico</td>\n",
       "      <td>0</td>\n",
       "      <td>0</td>\n",
       "      <td>0</td>\n",
       "      <td>False</td>\n",
       "      <td>False</td>\n",
       "      <td>0</td>\n",
       "      <td>0</td>\n",
       "      <td>0</td>\n",
       "      <td>0</td>\n",
       "      <td>0</td>\n",
       "      <td>0</td>\n",
       "      <td>0</td>\n",
       "      <td>0</td>\n",
       "      <td>0</td>\n",
       "      <td>0</td>\n",
       "      <td>0</td>\n",
       "      <td>0</td>\n",
       "    </tr>\n",
       "  </tbody>\n",
       "</table>\n",
       "</div>"
      ],
      "text/plain": [
       "     Label              Ip                          Time  \\\n",
       "758      0  103.142.110.26  [23/Apr/2021:01:51:15 +0000]   \n",
       "759      0  103.142.110.26  [23/Apr/2021:01:51:15 +0000]   \n",
       "760      0  103.142.110.26  [23/Apr/2021:01:51:15 +0000]   \n",
       "761      0  103.142.110.26  [23/Apr/2021:01:51:15 +0000]   \n",
       "762      0  103.142.110.26  [23/Apr/2021:01:51:16 +0000]   \n",
       "\n",
       "                   Request2  Comment_Count  Operator_Count  SqlKeyword_Count  \\\n",
       "758    images/right-bg.png               0               0                 0   \n",
       "759  images/line_right.png               0               0                 0   \n",
       "760        images/line.png               0               0                 0   \n",
       "761   images/footer-bg.png               0               0                 0   \n",
       "762            favicon.ico               0               0                 0   \n",
       "\n",
       "     Any_Always_True  Any_SQL_Keyword  Semicolon_Count  select  union  concat  \\\n",
       "758            False            False                0       0      0       0   \n",
       "759            False            False                0       0      0       0   \n",
       "760            False            False                0       0      0       0   \n",
       "761            False            False                0       0      0       0   \n",
       "762            False            False                0       0      0       0   \n",
       "\n",
       "     null  like  or  exec  and  having  char  order  \n",
       "758     0     0   0     0    0       0     0      0  \n",
       "759     0     0   0     0    0       0     0      0  \n",
       "760     0     0   0     0    0       0     0      0  \n",
       "761     0     0   0     0    0       0     0      0  \n",
       "762     0     0   0     0    0       0     0      0  "
      ]
     },
     "execution_count": 21,
     "metadata": {},
     "output_type": "execute_result"
    }
   ],
   "source": [
    "df_tf.tail()"
   ]
  },
  {
   "cell_type": "markdown",
   "id": "civic-wireless",
   "metadata": {},
   "source": [
    "### Oversampling"
   ]
  },
  {
   "cell_type": "code",
   "execution_count": 22,
   "id": "sized-fleece",
   "metadata": {
    "ExecuteTime": {
     "end_time": "2021-05-25T06:38:31.448836Z",
     "start_time": "2021-05-25T06:38:31.422898Z"
    }
   },
   "outputs": [],
   "source": [
    "test = df_tf.copy()\n",
    "X_tf = test.drop(['Label',], axis=1)\n",
    "y_tf = test['Label']\n",
    "X_tf = X_tf.iloc[:,3:]\n",
    "\n",
    "smote = SMOTE(sampling_strategy='minority')\n",
    "X_sm_tf, y_sm_tf = smote.fit_sample(X_tf, y_tf)\n",
    "\n",
    "df_sm_tf = pd.concat([X_sm_tf, y_sm_tf.reindex(X_sm_tf.index)], axis=1)\n",
    "\n",
    "# Move Label to 1st\n",
    "first_column = df_sm_tf.pop('Label')\n",
    "df_sm_tf.insert(0, 'Label', first_column)"
   ]
  },
  {
   "cell_type": "code",
   "execution_count": 26,
   "id": "innocent-illness",
   "metadata": {
    "ExecuteTime": {
     "end_time": "2021-05-25T06:39:45.593523Z",
     "start_time": "2021-05-25T06:39:45.578563Z"
    }
   },
   "outputs": [
    {
     "data": {
      "text/html": [
       "<div>\n",
       "<style scoped>\n",
       "    .dataframe tbody tr th:only-of-type {\n",
       "        vertical-align: middle;\n",
       "    }\n",
       "\n",
       "    .dataframe tbody tr th {\n",
       "        vertical-align: top;\n",
       "    }\n",
       "\n",
       "    .dataframe thead th {\n",
       "        text-align: right;\n",
       "    }\n",
       "</style>\n",
       "<table border=\"1\" class=\"dataframe\">\n",
       "  <thead>\n",
       "    <tr style=\"text-align: right;\">\n",
       "      <th></th>\n",
       "      <th>Label</th>\n",
       "      <th>Comment_Count</th>\n",
       "      <th>Operator_Count</th>\n",
       "      <th>SqlKeyword_Count</th>\n",
       "      <th>Any_Always_True</th>\n",
       "      <th>Any_SQL_Keyword</th>\n",
       "      <th>Semicolon_Count</th>\n",
       "      <th>select</th>\n",
       "      <th>union</th>\n",
       "      <th>concat</th>\n",
       "      <th>null</th>\n",
       "      <th>like</th>\n",
       "      <th>or</th>\n",
       "      <th>exec</th>\n",
       "      <th>and</th>\n",
       "      <th>having</th>\n",
       "      <th>char</th>\n",
       "      <th>order</th>\n",
       "    </tr>\n",
       "  </thead>\n",
       "  <tbody>\n",
       "    <tr>\n",
       "      <th>0</th>\n",
       "      <td>1</td>\n",
       "      <td>1</td>\n",
       "      <td>1</td>\n",
       "      <td>1</td>\n",
       "      <td>False</td>\n",
       "      <td>True</td>\n",
       "      <td>0</td>\n",
       "      <td>0</td>\n",
       "      <td>0</td>\n",
       "      <td>0</td>\n",
       "      <td>0</td>\n",
       "      <td>0</td>\n",
       "      <td>0</td>\n",
       "      <td>0</td>\n",
       "      <td>0</td>\n",
       "      <td>0</td>\n",
       "      <td>0</td>\n",
       "      <td>1</td>\n",
       "    </tr>\n",
       "    <tr>\n",
       "      <th>1</th>\n",
       "      <td>1</td>\n",
       "      <td>1</td>\n",
       "      <td>1</td>\n",
       "      <td>1</td>\n",
       "      <td>False</td>\n",
       "      <td>True</td>\n",
       "      <td>0</td>\n",
       "      <td>0</td>\n",
       "      <td>0</td>\n",
       "      <td>0</td>\n",
       "      <td>0</td>\n",
       "      <td>0</td>\n",
       "      <td>0</td>\n",
       "      <td>0</td>\n",
       "      <td>0</td>\n",
       "      <td>0</td>\n",
       "      <td>0</td>\n",
       "      <td>1</td>\n",
       "    </tr>\n",
       "    <tr>\n",
       "      <th>2</th>\n",
       "      <td>1</td>\n",
       "      <td>1</td>\n",
       "      <td>1</td>\n",
       "      <td>1</td>\n",
       "      <td>False</td>\n",
       "      <td>True</td>\n",
       "      <td>0</td>\n",
       "      <td>0</td>\n",
       "      <td>0</td>\n",
       "      <td>0</td>\n",
       "      <td>0</td>\n",
       "      <td>0</td>\n",
       "      <td>0</td>\n",
       "      <td>0</td>\n",
       "      <td>0</td>\n",
       "      <td>0</td>\n",
       "      <td>0</td>\n",
       "      <td>1</td>\n",
       "    </tr>\n",
       "    <tr>\n",
       "      <th>3</th>\n",
       "      <td>1</td>\n",
       "      <td>1</td>\n",
       "      <td>1</td>\n",
       "      <td>1</td>\n",
       "      <td>False</td>\n",
       "      <td>True</td>\n",
       "      <td>0</td>\n",
       "      <td>0</td>\n",
       "      <td>0</td>\n",
       "      <td>0</td>\n",
       "      <td>0</td>\n",
       "      <td>0</td>\n",
       "      <td>0</td>\n",
       "      <td>0</td>\n",
       "      <td>0</td>\n",
       "      <td>0</td>\n",
       "      <td>0</td>\n",
       "      <td>1</td>\n",
       "    </tr>\n",
       "    <tr>\n",
       "      <th>4</th>\n",
       "      <td>1</td>\n",
       "      <td>1</td>\n",
       "      <td>1</td>\n",
       "      <td>1</td>\n",
       "      <td>False</td>\n",
       "      <td>True</td>\n",
       "      <td>0</td>\n",
       "      <td>0</td>\n",
       "      <td>0</td>\n",
       "      <td>0</td>\n",
       "      <td>0</td>\n",
       "      <td>0</td>\n",
       "      <td>0</td>\n",
       "      <td>0</td>\n",
       "      <td>0</td>\n",
       "      <td>0</td>\n",
       "      <td>0</td>\n",
       "      <td>1</td>\n",
       "    </tr>\n",
       "  </tbody>\n",
       "</table>\n",
       "</div>"
      ],
      "text/plain": [
       "   Label  Comment_Count  Operator_Count  SqlKeyword_Count  Any_Always_True  \\\n",
       "0      1              1               1                 1            False   \n",
       "1      1              1               1                 1            False   \n",
       "2      1              1               1                 1            False   \n",
       "3      1              1               1                 1            False   \n",
       "4      1              1               1                 1            False   \n",
       "\n",
       "   Any_SQL_Keyword  Semicolon_Count  select  union  concat  null  like  or  \\\n",
       "0             True                0       0      0       0     0     0   0   \n",
       "1             True                0       0      0       0     0     0   0   \n",
       "2             True                0       0      0       0     0     0   0   \n",
       "3             True                0       0      0       0     0     0   0   \n",
       "4             True                0       0      0       0     0     0   0   \n",
       "\n",
       "   exec  and  having  char  order  \n",
       "0     0    0       0     0      1  \n",
       "1     0    0       0     0      1  \n",
       "2     0    0       0     0      1  \n",
       "3     0    0       0     0      1  \n",
       "4     0    0       0     0      1  "
      ]
     },
     "execution_count": 26,
     "metadata": {},
     "output_type": "execute_result"
    }
   ],
   "source": [
    "df_sm_tf.head()"
   ]
  },
  {
   "cell_type": "code",
   "execution_count": 25,
   "id": "revolutionary-payday",
   "metadata": {
    "ExecuteTime": {
     "end_time": "2021-05-25T06:39:16.756393Z",
     "start_time": "2021-05-25T06:39:16.605817Z"
    }
   },
   "outputs": [
    {
     "data": {
      "text/plain": [
       "<AxesSubplot:title={'center':'Count (target)'}>"
      ]
     },
     "execution_count": 25,
     "metadata": {},
     "output_type": "execute_result"
    },
    {
     "data": {
      "image/png": "[encoded data removed]",
      "text/plain": [
       "<Figure size 432x288 with 1 Axes>"
      ]
     },
     "metadata": {
      "needs_background": "light"
     },
     "output_type": "display_data"
    }
   ],
   "source": [
    "df_sm_tf.Label.value_counts().plot(kind='bar', title='Count (target)')"
   ]
  },
  {
   "cell_type": "markdown",
   "id": "south-things",
   "metadata": {},
   "source": [
    "### Modelling TF"
   ]
  },
  {
   "cell_type": "code",
   "execution_count": 27,
   "id": "domestic-soundtrack",
   "metadata": {
    "ExecuteTime": {
     "end_time": "2021-05-25T06:42:56.353095Z",
     "start_time": "2021-05-25T06:42:56.320182Z"
    },
    "scrolled": true
   },
   "outputs": [
    {
     "data": {
      "text/html": [
       "<div>\n",
       "<style scoped>\n",
       "    .dataframe tbody tr th:only-of-type {\n",
       "        vertical-align: middle;\n",
       "    }\n",
       "\n",
       "    .dataframe tbody tr th {\n",
       "        vertical-align: top;\n",
       "    }\n",
       "\n",
       "    .dataframe thead th {\n",
       "        text-align: right;\n",
       "    }\n",
       "</style>\n",
       "<table border=\"1\" class=\"dataframe\">\n",
       "  <thead>\n",
       "    <tr style=\"text-align: right;\">\n",
       "      <th></th>\n",
       "      <th>Label</th>\n",
       "      <th>Comment_Count</th>\n",
       "      <th>Operator_Count</th>\n",
       "      <th>SqlKeyword_Count</th>\n",
       "      <th>Any_Always_True</th>\n",
       "      <th>Any_SQL_Keyword</th>\n",
       "      <th>Semicolon_Count</th>\n",
       "      <th>select</th>\n",
       "      <th>union</th>\n",
       "      <th>concat</th>\n",
       "      <th>null</th>\n",
       "      <th>like</th>\n",
       "      <th>or</th>\n",
       "      <th>exec</th>\n",
       "      <th>and</th>\n",
       "      <th>having</th>\n",
       "      <th>char</th>\n",
       "      <th>order</th>\n",
       "    </tr>\n",
       "  </thead>\n",
       "  <tbody>\n",
       "    <tr>\n",
       "      <th>Label</th>\n",
       "      <td>1.000000</td>\n",
       "      <td>0.715017</td>\n",
       "      <td>0.329358</td>\n",
       "      <td>0.752471</td>\n",
       "      <td>0.322749</td>\n",
       "      <td>0.887666</td>\n",
       "      <td>0.162109</td>\n",
       "      <td>0.691870</td>\n",
       "      <td>0.632688</td>\n",
       "      <td>0.580138</td>\n",
       "      <td>0.411924</td>\n",
       "      <td>0.036736</td>\n",
       "      <td>0.110808</td>\n",
       "      <td>0.036736</td>\n",
       "      <td>0.336713</td>\n",
       "      <td>0.036736</td>\n",
       "      <td>0.086931</td>\n",
       "      <td>0.141178</td>\n",
       "    </tr>\n",
       "    <tr>\n",
       "      <th>Comment_Count</th>\n",
       "      <td>0.715017</td>\n",
       "      <td>1.000000</td>\n",
       "      <td>0.102110</td>\n",
       "      <td>0.735280</td>\n",
       "      <td>-0.153422</td>\n",
       "      <td>0.759962</td>\n",
       "      <td>0.134574</td>\n",
       "      <td>0.420221</td>\n",
       "      <td>0.832815</td>\n",
       "      <td>0.680801</td>\n",
       "      <td>0.530437</td>\n",
       "      <td>0.050769</td>\n",
       "      <td>-0.079229</td>\n",
       "      <td>0.127804</td>\n",
       "      <td>-0.172624</td>\n",
       "      <td>-0.026267</td>\n",
       "      <td>-0.027977</td>\n",
       "      <td>0.195107</td>\n",
       "    </tr>\n",
       "    <tr>\n",
       "      <th>Operator_Count</th>\n",
       "      <td>0.329358</td>\n",
       "      <td>0.102110</td>\n",
       "      <td>1.000000</td>\n",
       "      <td>0.156111</td>\n",
       "      <td>0.449832</td>\n",
       "      <td>0.302674</td>\n",
       "      <td>0.085143</td>\n",
       "      <td>0.324415</td>\n",
       "      <td>0.021439</td>\n",
       "      <td>0.003695</td>\n",
       "      <td>0.002521</td>\n",
       "      <td>0.000074</td>\n",
       "      <td>0.004302</td>\n",
       "      <td>0.073112</td>\n",
       "      <td>0.505703</td>\n",
       "      <td>0.000074</td>\n",
       "      <td>0.281034</td>\n",
       "      <td>0.000284</td>\n",
       "    </tr>\n",
       "    <tr>\n",
       "      <th>SqlKeyword_Count</th>\n",
       "      <td>0.752471</td>\n",
       "      <td>0.735280</td>\n",
       "      <td>0.156111</td>\n",
       "      <td>1.000000</td>\n",
       "      <td>0.180494</td>\n",
       "      <td>0.847695</td>\n",
       "      <td>-0.024664</td>\n",
       "      <td>0.817733</td>\n",
       "      <td>0.859873</td>\n",
       "      <td>0.856422</td>\n",
       "      <td>0.516826</td>\n",
       "      <td>0.035210</td>\n",
       "      <td>0.197485</td>\n",
       "      <td>0.056161</td>\n",
       "      <td>-0.007433</td>\n",
       "      <td>0.056161</td>\n",
       "      <td>0.030644</td>\n",
       "      <td>-0.025717</td>\n",
       "    </tr>\n",
       "    <tr>\n",
       "      <th>Any_Always_True</th>\n",
       "      <td>0.322749</td>\n",
       "      <td>-0.153422</td>\n",
       "      <td>0.449832</td>\n",
       "      <td>0.180494</td>\n",
       "      <td>1.000000</td>\n",
       "      <td>0.205714</td>\n",
       "      <td>-0.023131</td>\n",
       "      <td>0.432460</td>\n",
       "      <td>-0.117038</td>\n",
       "      <td>0.015877</td>\n",
       "      <td>-0.130763</td>\n",
       "      <td>-0.011856</td>\n",
       "      <td>0.343325</td>\n",
       "      <td>0.113822</td>\n",
       "      <td>0.608763</td>\n",
       "      <td>0.113822</td>\n",
       "      <td>0.250758</td>\n",
       "      <td>-0.045565</td>\n",
       "    </tr>\n",
       "    <tr>\n",
       "      <th>Any_SQL_Keyword</th>\n",
       "      <td>0.887666</td>\n",
       "      <td>0.759962</td>\n",
       "      <td>0.302674</td>\n",
       "      <td>0.847695</td>\n",
       "      <td>0.205714</td>\n",
       "      <td>1.000000</td>\n",
       "      <td>0.113882</td>\n",
       "      <td>0.779425</td>\n",
       "      <td>0.712755</td>\n",
       "      <td>0.653554</td>\n",
       "      <td>0.464052</td>\n",
       "      <td>0.041385</td>\n",
       "      <td>0.124830</td>\n",
       "      <td>0.041385</td>\n",
       "      <td>0.177050</td>\n",
       "      <td>0.041385</td>\n",
       "      <td>0.097932</td>\n",
       "      <td>0.159044</td>\n",
       "    </tr>\n",
       "    <tr>\n",
       "      <th>Semicolon_Count</th>\n",
       "      <td>0.162109</td>\n",
       "      <td>0.134574</td>\n",
       "      <td>0.085143</td>\n",
       "      <td>-0.024664</td>\n",
       "      <td>-0.023131</td>\n",
       "      <td>0.113882</td>\n",
       "      <td>1.000000</td>\n",
       "      <td>0.084310</td>\n",
       "      <td>-0.084643</td>\n",
       "      <td>-0.094046</td>\n",
       "      <td>-0.062734</td>\n",
       "      <td>-0.005955</td>\n",
       "      <td>-0.017963</td>\n",
       "      <td>0.226612</td>\n",
       "      <td>-0.035885</td>\n",
       "      <td>-0.005955</td>\n",
       "      <td>-0.014092</td>\n",
       "      <td>-0.022886</td>\n",
       "    </tr>\n",
       "    <tr>\n",
       "      <th>select</th>\n",
       "      <td>0.691870</td>\n",
       "      <td>0.420221</td>\n",
       "      <td>0.324415</td>\n",
       "      <td>0.817733</td>\n",
       "      <td>0.432460</td>\n",
       "      <td>0.779425</td>\n",
       "      <td>0.084310</td>\n",
       "      <td>1.000000</td>\n",
       "      <td>0.570718</td>\n",
       "      <td>0.479790</td>\n",
       "      <td>0.272966</td>\n",
       "      <td>0.024343</td>\n",
       "      <td>0.306905</td>\n",
       "      <td>0.024343</td>\n",
       "      <td>0.251132</td>\n",
       "      <td>0.024343</td>\n",
       "      <td>0.167997</td>\n",
       "      <td>-0.097677</td>\n",
       "    </tr>\n",
       "    <tr>\n",
       "      <th>union</th>\n",
       "      <td>0.632688</td>\n",
       "      <td>0.832815</td>\n",
       "      <td>0.021439</td>\n",
       "      <td>0.859873</td>\n",
       "      <td>-0.117038</td>\n",
       "      <td>0.712755</td>\n",
       "      <td>-0.084643</td>\n",
       "      <td>0.570718</td>\n",
       "      <td>1.000000</td>\n",
       "      <td>0.748187</td>\n",
       "      <td>0.564370</td>\n",
       "      <td>0.053920</td>\n",
       "      <td>0.007476</td>\n",
       "      <td>0.053920</td>\n",
       "      <td>-0.188218</td>\n",
       "      <td>-0.023242</td>\n",
       "      <td>-0.055000</td>\n",
       "      <td>-0.089322</td>\n",
       "    </tr>\n",
       "    <tr>\n",
       "      <th>concat</th>\n",
       "      <td>0.580138</td>\n",
       "      <td>0.680801</td>\n",
       "      <td>0.003695</td>\n",
       "      <td>0.856422</td>\n",
       "      <td>0.015877</td>\n",
       "      <td>0.653554</td>\n",
       "      <td>-0.094046</td>\n",
       "      <td>0.479790</td>\n",
       "      <td>0.748187</td>\n",
       "      <td>1.000000</td>\n",
       "      <td>0.571292</td>\n",
       "      <td>0.024926</td>\n",
       "      <td>0.075186</td>\n",
       "      <td>-0.021312</td>\n",
       "      <td>-0.135858</td>\n",
       "      <td>0.024926</td>\n",
       "      <td>-0.050432</td>\n",
       "      <td>-0.081903</td>\n",
       "    </tr>\n",
       "    <tr>\n",
       "      <th>null</th>\n",
       "      <td>0.411924</td>\n",
       "      <td>0.530437</td>\n",
       "      <td>0.002521</td>\n",
       "      <td>0.516826</td>\n",
       "      <td>-0.130763</td>\n",
       "      <td>0.464052</td>\n",
       "      <td>-0.062734</td>\n",
       "      <td>0.272966</td>\n",
       "      <td>0.564370</td>\n",
       "      <td>0.571292</td>\n",
       "      <td>1.000000</td>\n",
       "      <td>-0.015132</td>\n",
       "      <td>-0.045644</td>\n",
       "      <td>0.002276</td>\n",
       "      <td>-0.095311</td>\n",
       "      <td>-0.015132</td>\n",
       "      <td>-0.035809</td>\n",
       "      <td>-0.058155</td>\n",
       "    </tr>\n",
       "    <tr>\n",
       "      <th>like</th>\n",
       "      <td>0.036736</td>\n",
       "      <td>0.050769</td>\n",
       "      <td>0.000074</td>\n",
       "      <td>0.035210</td>\n",
       "      <td>-0.011856</td>\n",
       "      <td>0.041385</td>\n",
       "      <td>-0.005955</td>\n",
       "      <td>0.024343</td>\n",
       "      <td>0.053920</td>\n",
       "      <td>0.024926</td>\n",
       "      <td>-0.015132</td>\n",
       "      <td>1.000000</td>\n",
       "      <td>-0.004071</td>\n",
       "      <td>-0.001350</td>\n",
       "      <td>-0.012369</td>\n",
       "      <td>-0.001350</td>\n",
       "      <td>-0.003193</td>\n",
       "      <td>-0.005186</td>\n",
       "    </tr>\n",
       "    <tr>\n",
       "      <th>or</th>\n",
       "      <td>0.110808</td>\n",
       "      <td>-0.079229</td>\n",
       "      <td>0.004302</td>\n",
       "      <td>0.197485</td>\n",
       "      <td>0.343325</td>\n",
       "      <td>0.124830</td>\n",
       "      <td>-0.017963</td>\n",
       "      <td>0.306905</td>\n",
       "      <td>0.007476</td>\n",
       "      <td>0.075186</td>\n",
       "      <td>-0.045644</td>\n",
       "      <td>-0.004071</td>\n",
       "      <td>1.000000</td>\n",
       "      <td>-0.004071</td>\n",
       "      <td>-0.037310</td>\n",
       "      <td>0.331529</td>\n",
       "      <td>-0.009633</td>\n",
       "      <td>-0.015644</td>\n",
       "    </tr>\n",
       "    <tr>\n",
       "      <th>exec</th>\n",
       "      <td>0.036736</td>\n",
       "      <td>0.127804</td>\n",
       "      <td>0.073112</td>\n",
       "      <td>0.056161</td>\n",
       "      <td>0.113822</td>\n",
       "      <td>0.041385</td>\n",
       "      <td>0.226612</td>\n",
       "      <td>0.024343</td>\n",
       "      <td>0.053920</td>\n",
       "      <td>-0.021312</td>\n",
       "      <td>0.002276</td>\n",
       "      <td>-0.001350</td>\n",
       "      <td>-0.004071</td>\n",
       "      <td>1.000000</td>\n",
       "      <td>0.068140</td>\n",
       "      <td>-0.001350</td>\n",
       "      <td>-0.003193</td>\n",
       "      <td>-0.005186</td>\n",
       "    </tr>\n",
       "    <tr>\n",
       "      <th>and</th>\n",
       "      <td>0.336713</td>\n",
       "      <td>-0.172624</td>\n",
       "      <td>0.505703</td>\n",
       "      <td>-0.007433</td>\n",
       "      <td>0.608763</td>\n",
       "      <td>0.177050</td>\n",
       "      <td>-0.035885</td>\n",
       "      <td>0.251132</td>\n",
       "      <td>-0.188218</td>\n",
       "      <td>-0.135858</td>\n",
       "      <td>-0.095311</td>\n",
       "      <td>-0.012369</td>\n",
       "      <td>-0.037310</td>\n",
       "      <td>0.068140</td>\n",
       "      <td>1.000000</td>\n",
       "      <td>-0.012369</td>\n",
       "      <td>0.268411</td>\n",
       "      <td>-0.047536</td>\n",
       "    </tr>\n",
       "    <tr>\n",
       "      <th>having</th>\n",
       "      <td>0.036736</td>\n",
       "      <td>-0.026267</td>\n",
       "      <td>0.000074</td>\n",
       "      <td>0.056161</td>\n",
       "      <td>0.113822</td>\n",
       "      <td>0.041385</td>\n",
       "      <td>-0.005955</td>\n",
       "      <td>0.024343</td>\n",
       "      <td>-0.023242</td>\n",
       "      <td>0.024926</td>\n",
       "      <td>-0.015132</td>\n",
       "      <td>-0.001350</td>\n",
       "      <td>0.331529</td>\n",
       "      <td>-0.001350</td>\n",
       "      <td>-0.012369</td>\n",
       "      <td>1.000000</td>\n",
       "      <td>-0.003193</td>\n",
       "      <td>-0.005186</td>\n",
       "    </tr>\n",
       "    <tr>\n",
       "      <th>char</th>\n",
       "      <td>0.086931</td>\n",
       "      <td>-0.027977</td>\n",
       "      <td>0.281034</td>\n",
       "      <td>0.030644</td>\n",
       "      <td>0.250758</td>\n",
       "      <td>0.097932</td>\n",
       "      <td>-0.014092</td>\n",
       "      <td>0.167997</td>\n",
       "      <td>-0.055000</td>\n",
       "      <td>-0.050432</td>\n",
       "      <td>-0.035809</td>\n",
       "      <td>-0.003193</td>\n",
       "      <td>-0.009633</td>\n",
       "      <td>-0.003193</td>\n",
       "      <td>0.268411</td>\n",
       "      <td>-0.003193</td>\n",
       "      <td>1.000000</td>\n",
       "      <td>-0.012273</td>\n",
       "    </tr>\n",
       "    <tr>\n",
       "      <th>order</th>\n",
       "      <td>0.141178</td>\n",
       "      <td>0.195107</td>\n",
       "      <td>0.000284</td>\n",
       "      <td>-0.025717</td>\n",
       "      <td>-0.045565</td>\n",
       "      <td>0.159044</td>\n",
       "      <td>-0.022886</td>\n",
       "      <td>-0.097677</td>\n",
       "      <td>-0.089322</td>\n",
       "      <td>-0.081903</td>\n",
       "      <td>-0.058155</td>\n",
       "      <td>-0.005186</td>\n",
       "      <td>-0.015644</td>\n",
       "      <td>-0.005186</td>\n",
       "      <td>-0.047536</td>\n",
       "      <td>-0.005186</td>\n",
       "      <td>-0.012273</td>\n",
       "      <td>1.000000</td>\n",
       "    </tr>\n",
       "  </tbody>\n",
       "</table>\n",
       "</div>"
      ],
      "text/plain": [
       "                     Label  Comment_Count  Operator_Count  SqlKeyword_Count  \\\n",
       "Label             1.000000       0.715017        0.329358          0.752471   \n",
       "Comment_Count     0.715017       1.000000        0.102110          0.735280   \n",
       "Operator_Count    0.329358       0.102110        1.000000          0.156111   \n",
       "SqlKeyword_Count  0.752471       0.735280        0.156111          1.000000   \n",
       "Any_Always_True   0.322749      -0.153422        0.449832          0.180494   \n",
       "Any_SQL_Keyword   0.887666       0.759962        0.302674          0.847695   \n",
       "Semicolon_Count   0.162109       0.134574        0.085143         -0.024664   \n",
       "select            0.691870       0.420221        0.324415          0.817733   \n",
       "union             0.632688       0.832815        0.021439          0.859873   \n",
       "concat            0.580138       0.680801        0.003695          0.856422   \n",
       "null              0.411924       0.530437        0.002521          0.516826   \n",
       "like              0.036736       0.050769        0.000074          0.035210   \n",
       "or                0.110808      -0.079229        0.004302          0.197485   \n",
       "exec              0.036736       0.127804        0.073112          0.056161   \n",
       "and               0.336713      -0.172624        0.505703         -0.007433   \n",
       "having            0.036736      -0.026267        0.000074          0.056161   \n",
       "char              0.086931      -0.027977        0.281034          0.030644   \n",
       "order             0.141178       0.195107        0.000284         -0.025717   \n",
       "\n",
       "                  Any_Always_True  Any_SQL_Keyword  Semicolon_Count    select  \\\n",
       "Label                    0.322749         0.887666         0.162109  0.691870   \n",
       "Comment_Count           -0.153422         0.759962         0.134574  0.420221   \n",
       "Operator_Count           0.449832         0.302674         0.085143  0.324415   \n",
       "SqlKeyword_Count         0.180494         0.847695        -0.024664  0.817733   \n",
       "Any_Always_True          1.000000         0.205714        -0.023131  0.432460   \n",
       "Any_SQL_Keyword          0.205714         1.000000         0.113882  0.779425   \n",
       "Semicolon_Count         -0.023131         0.113882         1.000000  0.084310   \n",
       "select                   0.432460         0.779425         0.084310  1.000000   \n",
       "union                   -0.117038         0.712755        -0.084643  0.570718   \n",
       "concat                   0.015877         0.653554        -0.094046  0.479790   \n",
       "null                    -0.130763         0.464052        -0.062734  0.272966   \n",
       "like                    -0.011856         0.041385        -0.005955  0.024343   \n",
       "or                       0.343325         0.124830        -0.017963  0.306905   \n",
       "exec                     0.113822         0.041385         0.226612  0.024343   \n",
       "and                      0.608763         0.177050        -0.035885  0.251132   \n",
       "having                   0.113822         0.041385        -0.005955  0.024343   \n",
       "char                     0.250758         0.097932        -0.014092  0.167997   \n",
       "order                   -0.045565         0.159044        -0.022886 -0.097677   \n",
       "\n",
       "                     union    concat      null      like        or      exec  \\\n",
       "Label             0.632688  0.580138  0.411924  0.036736  0.110808  0.036736   \n",
       "Comment_Count     0.832815  0.680801  0.530437  0.050769 -0.079229  0.127804   \n",
       "Operator_Count    0.021439  0.003695  0.002521  0.000074  0.004302  0.073112   \n",
       "SqlKeyword_Count  0.859873  0.856422  0.516826  0.035210  0.197485  0.056161   \n",
       "Any_Always_True  -0.117038  0.015877 -0.130763 -0.011856  0.343325  0.113822   \n",
       "Any_SQL_Keyword   0.712755  0.653554  0.464052  0.041385  0.124830  0.041385   \n",
       "Semicolon_Count  -0.084643 -0.094046 -0.062734 -0.005955 -0.017963  0.226612   \n",
       "select            0.570718  0.479790  0.272966  0.024343  0.306905  0.024343   \n",
       "union             1.000000  0.748187  0.564370  0.053920  0.007476  0.053920   \n",
       "concat            0.748187  1.000000  0.571292  0.024926  0.075186 -0.021312   \n",
       "null              0.564370  0.571292  1.000000 -0.015132 -0.045644  0.002276   \n",
       "like              0.053920  0.024926 -0.015132  1.000000 -0.004071 -0.001350   \n",
       "or                0.007476  0.075186 -0.045644 -0.004071  1.000000 -0.004071   \n",
       "exec              0.053920 -0.021312  0.002276 -0.001350 -0.004071  1.000000   \n",
       "and              -0.188218 -0.135858 -0.095311 -0.012369 -0.037310  0.068140   \n",
       "having           -0.023242  0.024926 -0.015132 -0.001350  0.331529 -0.001350   \n",
       "char             -0.055000 -0.050432 -0.035809 -0.003193 -0.009633 -0.003193   \n",
       "order            -0.089322 -0.081903 -0.058155 -0.005186 -0.015644 -0.005186   \n",
       "\n",
       "                       and    having      char     order  \n",
       "Label             0.336713  0.036736  0.086931  0.141178  \n",
       "Comment_Count    -0.172624 -0.026267 -0.027977  0.195107  \n",
       "Operator_Count    0.505703  0.000074  0.281034  0.000284  \n",
       "SqlKeyword_Count -0.007433  0.056161  0.030644 -0.025717  \n",
       "Any_Always_True   0.608763  0.113822  0.250758 -0.045565  \n",
       "Any_SQL_Keyword   0.177050  0.041385  0.097932  0.159044  \n",
       "Semicolon_Count  -0.035885 -0.005955 -0.014092 -0.022886  \n",
       "select            0.251132  0.024343  0.167997 -0.097677  \n",
       "union            -0.188218 -0.023242 -0.055000 -0.089322  \n",
       "concat           -0.135858  0.024926 -0.050432 -0.081903  \n",
       "null             -0.095311 -0.015132 -0.035809 -0.058155  \n",
       "like             -0.012369 -0.001350 -0.003193 -0.005186  \n",
       "or               -0.037310  0.331529 -0.009633 -0.015644  \n",
       "exec              0.068140 -0.001350 -0.003193 -0.005186  \n",
       "and               1.000000 -0.012369  0.268411 -0.047536  \n",
       "having           -0.012369  1.000000 -0.003193 -0.005186  \n",
       "char              0.268411 -0.003193  1.000000 -0.012273  \n",
       "order            -0.047536 -0.005186 -0.012273  1.000000  "
      ]
     },
     "execution_count": 27,
     "metadata": {},
     "output_type": "execute_result"
    }
   ],
   "source": [
    "df_sm_tf.corr()"
   ]
  },
  {
   "cell_type": "code",
   "execution_count": 28,
   "id": "binary-startup",
   "metadata": {
    "ExecuteTime": {
     "end_time": "2021-05-25T06:43:13.354581Z",
     "start_time": "2021-05-25T06:43:13.000966Z"
    }
   },
   "outputs": [
    {
     "data": {
      "image/png": "[encoded data removed]",
      "text/plain": [
       "<Figure size 432x288 with 2 Axes>"
      ]
     },
     "metadata": {
      "needs_background": "light"
     },
     "output_type": "display_data"
    }
   ],
   "source": [
    "sns.heatmap(df_sm_tf.corr());"
   ]
  },
  {
   "cell_type": "markdown",
   "id": "confirmed-story",
   "metadata": {},
   "source": [
    "### ML Model"
   ]
  },
  {
   "cell_type": "code",
   "execution_count": 29,
   "id": "contained-gathering",
   "metadata": {
    "ExecuteTime": {
     "end_time": "2021-05-25T06:44:45.132268Z",
     "start_time": "2021-05-25T06:44:45.127281Z"
    }
   },
   "outputs": [],
   "source": [
    "classifiers = []\n",
    "\n",
    "model1 = xgboost.XGBClassifier()\n",
    "classifiers.append(model1)\n",
    "model2 = svm.SVC()\n",
    "classifiers.append(model2)\n",
    "model3 = tree.DecisionTreeClassifier()\n",
    "classifiers.append(model3)\n",
    "model4 = RandomForestClassifier()\n",
    "classifiers.append(model4)"
   ]
  },
  {
   "cell_type": "markdown",
   "id": "twenty-blond",
   "metadata": {},
   "source": [
    "#### Split Train, Validation, Test Data"
   ]
  },
  {
   "cell_type": "code",
   "execution_count": 37,
   "id": "boxed-insulin",
   "metadata": {
    "ExecuteTime": {
     "end_time": "2021-05-25T06:53:22.017003Z",
     "start_time": "2021-05-25T06:53:22.003041Z"
    }
   },
   "outputs": [],
   "source": [
    "X = df_sm_tf.drop(['Label'], axis=1)\n",
    "y = df_sm_tf['Label']\n",
    "X_train, X_test, y_train, y_test = train_test_split(X, y, test_size=0.2, random_state=0)\n",
    "X_train, X_val, y_train, y_val = train_test_split(X_train, y_train, test_size=0.2, random_state=0)"
   ]
  },
  {
   "cell_type": "code",
   "execution_count": 38,
   "id": "acceptable-warner",
   "metadata": {
    "ExecuteTime": {
     "end_time": "2021-05-25T06:53:28.644917Z",
     "start_time": "2021-05-25T06:53:28.638931Z"
    }
   },
   "outputs": [
    {
     "data": {
      "text/plain": [
       "((949, 17), (238, 17), (297, 17))"
      ]
     },
     "execution_count": 38,
     "metadata": {},
     "output_type": "execute_result"
    }
   ],
   "source": [
    "X_train.shape, X_val.shape, X_test.shape"
   ]
  },
  {
   "cell_type": "code",
   "execution_count": 79,
   "id": "veterinary-motivation",
   "metadata": {
    "ExecuteTime": {
     "end_time": "2021-05-25T07:22:29.782629Z",
     "start_time": "2021-05-25T07:22:29.760686Z"
    }
   },
   "outputs": [],
   "source": [
    "df_sm_tf.to_csv('data_train_tf.csv')"
   ]
  },
  {
   "cell_type": "markdown",
   "id": "absolute-flavor",
   "metadata": {},
   "source": [
    "#### Find best ML Predictor"
   ]
  },
  {
   "cell_type": "code",
   "execution_count": 39,
   "id": "arabic-threshold",
   "metadata": {
    "ExecuteTime": {
     "end_time": "2021-05-25T06:54:55.431164Z",
     "start_time": "2021-05-25T06:54:55.426194Z"
    }
   },
   "outputs": [],
   "source": [
    "classifiers = []\n",
    "\n",
    "model1 = xgboost.XGBClassifier()\n",
    "classifiers.append(model1)\n",
    "model2 = svm.SVC()\n",
    "classifiers.append(model2)\n",
    "model3 = tree.DecisionTreeClassifier()\n",
    "classifiers.append(model3)\n",
    "model4 = RandomForestClassifier()\n",
    "classifiers.append(model4)"
   ]
  },
  {
   "cell_type": "code",
   "execution_count": 43,
   "id": "sustained-emerald",
   "metadata": {
    "ExecuteTime": {
     "end_time": "2021-05-25T06:58:47.382634Z",
     "start_time": "2021-05-25T06:58:47.103362Z"
    }
   },
   "outputs": [
    {
     "name": "stdout",
     "output_type": "stream",
     "text": [
      "Accuracy using Validation data of XGBClassifier() is 0.9915966386554622\n",
      "Accuracy using Test data of XGBClassifier() is 1.0\n",
      "Accuracy using Validation data of SVC() is 0.9915966386554622\n",
      "Accuracy using Test data of SVC() is 1.0\n",
      "Accuracy using Validation data of DecisionTreeClassifier() is 0.9915966386554622\n",
      "Accuracy using Test data of DecisionTreeClassifier() is 1.0\n",
      "Accuracy using Validation data of RandomForestClassifier() is 0.9915966386554622\n",
      "Accuracy using Test data of RandomForestClassifier() is 1.0\n"
     ]
    }
   ],
   "source": [
    "# Evalueagte using Validation data\n",
    "for clf in classifiers:\n",
    "    clf.fit(X_train, y_train)\n",
    "    y_pred1 = clf.predict(X_val)\n",
    "    y_pred2 = clf.predict(X_test)\n",
    "    acc1 = accuracy_score(y_val, y_pred1)\n",
    "    acc2 = accuracy_score(y_test, y_pred2)\n",
    "    print(\"Accuracy using Validation data of %s is %s\"%(clf, acc1))\n",
    "    print(\"Accuracy using Test data of %s is %s\"%(clf, acc2))\n",
    "    \n",
    "    cm = confusion_matrix(y_val, y_pred)\n",
    "    # print(\"Confusion Matrix of %s is %s\"%(clf, cm))"
   ]
  },
  {
   "cell_type": "markdown",
   "id": "bored-upset",
   "metadata": {},
   "source": [
    "#### Using Decision Tree with Cross Validation"
   ]
  },
  {
   "cell_type": "code",
   "execution_count": 45,
   "id": "worse-knitting",
   "metadata": {
    "ExecuteTime": {
     "end_time": "2021-05-25T07:01:04.783047Z",
     "start_time": "2021-05-25T07:01:04.775068Z"
    }
   },
   "outputs": [],
   "source": [
    "X = df_sm_tf.drop(['Label'], axis=1)\n",
    "y = df_sm_tf['Label']\n",
    "X_train, X_test, y_train, y_test = train_test_split(X, y, test_size=0.2, random_state=0)"
   ]
  },
  {
   "cell_type": "code",
   "execution_count": 50,
   "id": "greatest-drunk",
   "metadata": {
    "ExecuteTime": {
     "end_time": "2021-05-25T07:13:00.648604Z",
     "start_time": "2021-05-25T07:13:00.588751Z"
    }
   },
   "outputs": [
    {
     "name": "stdout",
     "output_type": "stream",
     "text": [
      "[1.         0.99579832 0.99578059 1.         0.99156118]\n",
      "Accuracy of DecisionTreeClassifier() is 1.0\n",
      "              precision    recall  f1-score   support\n",
      "\n",
      "     class 0       1.00      1.00      1.00       147\n",
      "     class 1       1.00      1.00      1.00       150\n",
      "\n",
      "    accuracy                           1.00       297\n",
      "   macro avg       1.00      1.00      1.00       297\n",
      "weighted avg       1.00      1.00      1.00       297\n",
      "\n"
     ]
    }
   ],
   "source": [
    "clf = tree.DecisionTreeClassifier()\n",
    "scores = cross_val_score(clf, X_train, y_train, cv=5)\n",
    "print(scores)\n",
    "mod = clf.fit(X_train, y_train)\n",
    "y_pred = mod.predict(X_test)\n",
    "acc = accuracy_score(y_test, y_pred)\n",
    "print(\"Accuracy of %s is %s\"%(clf, acc))\n",
    "target_names = ['class 0', 'class 1']\n",
    "print(classification_report(y_test, y_pred, target_names=target_names))"
   ]
  },
  {
   "cell_type": "markdown",
   "id": "flying-charles",
   "metadata": {},
   "source": [
    "#### Save Model"
   ]
  },
  {
   "cell_type": "code",
   "execution_count": 51,
   "id": "innocent-mortality",
   "metadata": {
    "ExecuteTime": {
     "end_time": "2021-05-25T07:14:06.424641Z",
     "start_time": "2021-05-25T07:14:06.416637Z"
    }
   },
   "outputs": [],
   "source": [
    "# save the model to disk\n",
    "filename = 'finalized_model_sqli.pkl'\n",
    "pickle.dump(mod, open(filename, 'wb'))"
   ]
  },
  {
   "cell_type": "markdown",
   "id": "exterior-transcription",
   "metadata": {},
   "source": [
    "### Test With New Data"
   ]
  },
  {
   "cell_type": "markdown",
   "id": "historical-smooth",
   "metadata": {},
   "source": [
    "#### Load Model"
   ]
  },
  {
   "cell_type": "code",
   "execution_count": 52,
   "id": "digital-difference",
   "metadata": {
    "ExecuteTime": {
     "end_time": "2021-05-25T07:14:40.158415Z",
     "start_time": "2021-05-25T07:14:40.145459Z"
    }
   },
   "outputs": [],
   "source": [
    "filename = 'finalized_model_sqli.pkl'\n",
    "loaded_model = pickle.load(open(filename, 'rb'))"
   ]
  },
  {
   "cell_type": "markdown",
   "id": "turned-subdivision",
   "metadata": {},
   "source": [
    "#### Test Data"
   ]
  },
  {
   "cell_type": "code",
   "execution_count": 68,
   "id": "alert-thing",
   "metadata": {
    "ExecuteTime": {
     "end_time": "2021-05-25T07:18:37.804437Z",
     "start_time": "2021-05-25T07:18:37.801414Z"
    }
   },
   "outputs": [],
   "source": [
    "data = \"\"\" 36.72.215.113 - - [23/Apr/2021:02:34:54 +0000] \"GET /mod.php?kategori=lounge&id=6950 HTTP/1.1\" 200 2349 \"-\" \"sqlmap/1.5.2#stable (http://sqlmap.org)\" \"\"\""
   ]
  },
  {
   "cell_type": "code",
   "execution_count": 72,
   "id": "about-destination",
   "metadata": {
    "ExecuteTime": {
     "end_time": "2021-05-25T07:18:49.203000Z",
     "start_time": "2021-05-25T07:18:49.195051Z"
    }
   },
   "outputs": [],
   "source": [
    "data1 = {'Log':  [data],\n",
    "        'Label': 1}\n",
    "\n",
    "df1 = pd.DataFrame (data1, columns = ['Log','Label'])"
   ]
  },
  {
   "cell_type": "code",
   "execution_count": 73,
   "id": "welcome-twelve",
   "metadata": {
    "ExecuteTime": {
     "end_time": "2021-05-25T07:18:50.959900Z",
     "start_time": "2021-05-25T07:18:50.950927Z"
    }
   },
   "outputs": [
    {
     "data": {
      "text/html": [
       "<div>\n",
       "<style scoped>\n",
       "    .dataframe tbody tr th:only-of-type {\n",
       "        vertical-align: middle;\n",
       "    }\n",
       "\n",
       "    .dataframe tbody tr th {\n",
       "        vertical-align: top;\n",
       "    }\n",
       "\n",
       "    .dataframe thead th {\n",
       "        text-align: right;\n",
       "    }\n",
       "</style>\n",
       "<table border=\"1\" class=\"dataframe\">\n",
       "  <thead>\n",
       "    <tr style=\"text-align: right;\">\n",
       "      <th></th>\n",
       "      <th>Log</th>\n",
       "      <th>Label</th>\n",
       "    </tr>\n",
       "  </thead>\n",
       "  <tbody>\n",
       "    <tr>\n",
       "      <th>0</th>\n",
       "      <td>36.72.215.113 - - [23/Apr/2021:02:34:54 +0000] \"GET /mod.php?kategori=lounge&amp;id=6950 HTTP/1.1\" ...</td>\n",
       "      <td>1</td>\n",
       "    </tr>\n",
       "  </tbody>\n",
       "</table>\n",
       "</div>"
      ],
      "text/plain": [
       "                                                                                                   Log  \\\n",
       "0   36.72.215.113 - - [23/Apr/2021:02:34:54 +0000] \"GET /mod.php?kategori=lounge&id=6950 HTTP/1.1\" ...   \n",
       "\n",
       "   Label  \n",
       "0      1  "
      ]
     },
     "execution_count": 73,
     "metadata": {},
     "output_type": "execute_result"
    }
   ],
   "source": [
    "df1"
   ]
  },
  {
   "cell_type": "code",
   "execution_count": 74,
   "id": "pretty-jenny",
   "metadata": {
    "ExecuteTime": {
     "end_time": "2021-05-25T07:19:13.162721Z",
     "start_time": "2021-05-25T07:19:13.132803Z"
    }
   },
   "outputs": [],
   "source": [
    "# Pipeline to preprocess, split, and feature engineering\n",
    "test_tf = pipeline(df1)"
   ]
  },
  {
   "cell_type": "code",
   "execution_count": 75,
   "id": "educated-context",
   "metadata": {
    "ExecuteTime": {
     "end_time": "2021-05-25T07:19:15.231152Z",
     "start_time": "2021-05-25T07:19:15.216159Z"
    }
   },
   "outputs": [
    {
     "data": {
      "text/html": [
       "<div>\n",
       "<style scoped>\n",
       "    .dataframe tbody tr th:only-of-type {\n",
       "        vertical-align: middle;\n",
       "    }\n",
       "\n",
       "    .dataframe tbody tr th {\n",
       "        vertical-align: top;\n",
       "    }\n",
       "\n",
       "    .dataframe thead th {\n",
       "        text-align: right;\n",
       "    }\n",
       "</style>\n",
       "<table border=\"1\" class=\"dataframe\">\n",
       "  <thead>\n",
       "    <tr style=\"text-align: right;\">\n",
       "      <th></th>\n",
       "      <th>Label</th>\n",
       "      <th>Ip</th>\n",
       "      <th>Time</th>\n",
       "      <th>Request2</th>\n",
       "      <th>Comment_Count</th>\n",
       "      <th>Operator_Count</th>\n",
       "      <th>SqlKeyword_Count</th>\n",
       "      <th>Any_Always_True</th>\n",
       "      <th>Any_SQL_Keyword</th>\n",
       "      <th>Semicolon_Count</th>\n",
       "      <th>select</th>\n",
       "      <th>union</th>\n",
       "      <th>concat</th>\n",
       "      <th>null</th>\n",
       "      <th>like</th>\n",
       "      <th>or</th>\n",
       "      <th>exec</th>\n",
       "      <th>and</th>\n",
       "      <th>having</th>\n",
       "      <th>char</th>\n",
       "      <th>order</th>\n",
       "    </tr>\n",
       "  </thead>\n",
       "  <tbody>\n",
       "    <tr>\n",
       "      <th>0</th>\n",
       "      <td>1</td>\n",
       "      <td>36.72.215.113</td>\n",
       "      <td>[23/Apr/2021:02:34:54 +0000]</td>\n",
       "      <td>?kategori=lounge&amp;id=6950</td>\n",
       "      <td>0</td>\n",
       "      <td>1</td>\n",
       "      <td>0</td>\n",
       "      <td>False</td>\n",
       "      <td>False</td>\n",
       "      <td>0</td>\n",
       "      <td>0</td>\n",
       "      <td>0</td>\n",
       "      <td>0</td>\n",
       "      <td>0</td>\n",
       "      <td>0</td>\n",
       "      <td>0</td>\n",
       "      <td>0</td>\n",
       "      <td>0</td>\n",
       "      <td>0</td>\n",
       "      <td>0</td>\n",
       "      <td>0</td>\n",
       "    </tr>\n",
       "  </tbody>\n",
       "</table>\n",
       "</div>"
      ],
      "text/plain": [
       "   Label              Ip                          Time  \\\n",
       "0      1   36.72.215.113  [23/Apr/2021:02:34:54 +0000]   \n",
       "\n",
       "                    Request2  Comment_Count  Operator_Count  SqlKeyword_Count  \\\n",
       "0  ?kategori=lounge&id=6950               0               1                 0   \n",
       "\n",
       "   Any_Always_True  Any_SQL_Keyword  Semicolon_Count  select  union  concat  \\\n",
       "0            False            False                0       0      0       0   \n",
       "\n",
       "   null  like  or  exec  and  having  char  order  \n",
       "0     0     0   0     0    0       0     0      0  "
      ]
     },
     "execution_count": 75,
     "metadata": {},
     "output_type": "execute_result"
    }
   ],
   "source": [
    "test_tf"
   ]
  },
  {
   "cell_type": "code",
   "execution_count": 76,
   "id": "according-stretch",
   "metadata": {
    "ExecuteTime": {
     "end_time": "2021-05-25T07:20:47.397281Z",
     "start_time": "2021-05-25T07:20:47.392300Z"
    }
   },
   "outputs": [],
   "source": [
    "test_tf = test_tf.iloc[:,4:]"
   ]
  },
  {
   "cell_type": "code",
   "execution_count": 77,
   "id": "detailed-wealth",
   "metadata": {
    "ExecuteTime": {
     "end_time": "2021-05-25T07:20:53.260541Z",
     "start_time": "2021-05-25T07:20:53.247602Z"
    }
   },
   "outputs": [
    {
     "data": {
      "text/html": [
       "<div>\n",
       "<style scoped>\n",
       "    .dataframe tbody tr th:only-of-type {\n",
       "        vertical-align: middle;\n",
       "    }\n",
       "\n",
       "    .dataframe tbody tr th {\n",
       "        vertical-align: top;\n",
       "    }\n",
       "\n",
       "    .dataframe thead th {\n",
       "        text-align: right;\n",
       "    }\n",
       "</style>\n",
       "<table border=\"1\" class=\"dataframe\">\n",
       "  <thead>\n",
       "    <tr style=\"text-align: right;\">\n",
       "      <th></th>\n",
       "      <th>Comment_Count</th>\n",
       "      <th>Operator_Count</th>\n",
       "      <th>SqlKeyword_Count</th>\n",
       "      <th>Any_Always_True</th>\n",
       "      <th>Any_SQL_Keyword</th>\n",
       "      <th>Semicolon_Count</th>\n",
       "      <th>select</th>\n",
       "      <th>union</th>\n",
       "      <th>concat</th>\n",
       "      <th>null</th>\n",
       "      <th>like</th>\n",
       "      <th>or</th>\n",
       "      <th>exec</th>\n",
       "      <th>and</th>\n",
       "      <th>having</th>\n",
       "      <th>char</th>\n",
       "      <th>order</th>\n",
       "    </tr>\n",
       "  </thead>\n",
       "  <tbody>\n",
       "    <tr>\n",
       "      <th>0</th>\n",
       "      <td>0</td>\n",
       "      <td>1</td>\n",
       "      <td>0</td>\n",
       "      <td>False</td>\n",
       "      <td>False</td>\n",
       "      <td>0</td>\n",
       "      <td>0</td>\n",
       "      <td>0</td>\n",
       "      <td>0</td>\n",
       "      <td>0</td>\n",
       "      <td>0</td>\n",
       "      <td>0</td>\n",
       "      <td>0</td>\n",
       "      <td>0</td>\n",
       "      <td>0</td>\n",
       "      <td>0</td>\n",
       "      <td>0</td>\n",
       "    </tr>\n",
       "  </tbody>\n",
       "</table>\n",
       "</div>"
      ],
      "text/plain": [
       "   Comment_Count  Operator_Count  SqlKeyword_Count  Any_Always_True  \\\n",
       "0              0               1                 0            False   \n",
       "\n",
       "   Any_SQL_Keyword  Semicolon_Count  select  union  concat  null  like  or  \\\n",
       "0            False                0       0      0       0     0     0   0   \n",
       "\n",
       "   exec  and  having  char  order  \n",
       "0     0    0       0     0      0  "
      ]
     },
     "execution_count": 77,
     "metadata": {},
     "output_type": "execute_result"
    }
   ],
   "source": [
    "test_tf"
   ]
  },
  {
   "cell_type": "code",
   "execution_count": 78,
   "id": "curious-accreditation",
   "metadata": {
    "ExecuteTime": {
     "end_time": "2021-05-25T07:20:56.759547Z",
     "start_time": "2021-05-25T07:20:56.750570Z"
    }
   },
   "outputs": [
    {
     "data": {
      "text/plain": [
       "array([1], dtype=int64)"
      ]
     },
     "execution_count": 78,
     "metadata": {},
     "output_type": "execute_result"
    }
   ],
   "source": [
    "loaded_model.predict(test_tf)"
   ]
  }
 ],
 "metadata": {
  "kernelspec": {
   "display_name": "Python 3",
   "language": "python",
   "name": "python3"
  },
  "language_info": {
   "codemirror_mode": {
    "name": "ipython",
    "version": 3
   },
   "file_extension": ".py",
   "mimetype": "text/x-python",
   "name": "python",
   "nbconvert_exporter": "python",
   "pygments_lexer": "ipython3",
   "version": "3.6.12"
  },
  "toc": {
   "base_numbering": 1,
   "nav_menu": {},
   "number_sections": true,
   "sideBar": true,
   "skip_h1_title": false,
   "title_cell": "Table of Contents",
   "title_sidebar": "Contents",
   "toc_cell": false,
   "toc_position": {
    "height": "calc(100% - 180px)",
    "left": "10px",
    "top": "150px",
    "width": "341.333px"
   },
   "toc_section_display": true,
   "toc_window_display": true
  }
 },
 "nbformat": 4,
 "nbformat_minor": 5
}
