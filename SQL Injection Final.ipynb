{
 "cells": [
  {
   "cell_type": "markdown",
   "id": "strategic-roller",
   "metadata": {},
   "source": [
    "### Import Library"
   ]
  },
  {
   "cell_type": "code",
   "execution_count": 296,
   "id": "complimentary-oriental",
   "metadata": {
    "ExecuteTime": {
     "end_time": "2021-05-25T08:42:35.097266Z",
     "start_time": "2021-05-25T08:42:35.085282Z"
    }
   },
   "outputs": [],
   "source": [
    "import pandas as pd\n",
    "from urllib.parse import unquote\n",
    "import nltk\n",
    "from nltk.tokenize import word_tokenize\n",
    "from sklearn.feature_extraction.text import CountVectorizer\n",
    "import re\n",
    "import numpy as np\n",
    "import matplotlib.pyplot as plt\n",
    "from imblearn.over_sampling import SMOTE\n",
    "import seaborn as sns\n",
    "import pickle\n",
    "import xgboost\n",
    "\n",
    "# Machine Learning\n",
    "from sklearn.model_selection import train_test_split\n",
    "from sklearn.metrics import accuracy_score, confusion_matrix\n",
    "from sklearn.metrics import classification_report\n",
    "from sklearn.naive_bayes import GaussianNB\n",
    "from sklearn import svm\n",
    "from sklearn import tree\n",
    "from sklearn.ensemble import RandomForestClassifier\n",
    "from sklearn.model_selection import cross_val_score"
   ]
  },
  {
   "cell_type": "code",
   "execution_count": 297,
   "id": "owned-genome",
   "metadata": {
    "ExecuteTime": {
     "end_time": "2021-05-25T08:42:36.533236Z",
     "start_time": "2021-05-25T08:42:36.528222Z"
    }
   },
   "outputs": [],
   "source": [
    "# Configure\n",
    "pd.set_option('display.max_rows', None)\n",
    "pd.set_option('display.max_columns', None)\n",
    "pd.set_option('display.max_colwidth', 100)"
   ]
  },
  {
   "cell_type": "markdown",
   "id": "familiar-tournament",
   "metadata": {},
   "source": [
    "### Import Data"
   ]
  },
  {
   "cell_type": "code",
   "execution_count": 305,
   "id": "friendly-pleasure",
   "metadata": {
    "ExecuteTime": {
     "end_time": "2021-05-25T08:44:03.663559Z",
     "start_time": "2021-05-25T08:44:03.644571Z"
    }
   },
   "outputs": [],
   "source": [
    "# Attack Data Sql\n",
    "df_at = pd.read_csv('attack_sql2.txt', delimiter = \"\\t\", header=None)\n",
    "df_at.columns = ['Log']\n",
    "df_at['Label'] =  1\n",
    "\n",
    "df_no = pd.read_csv('safe_sql.txt', delimiter = \"\\t\", header=None)\n",
    "df_no.columns = ['Log']\n",
    "df_no['Label'] = 0"
   ]
  },
  {
   "cell_type": "code",
   "execution_count": 306,
   "id": "bottom-porter",
   "metadata": {
    "ExecuteTime": {
     "end_time": "2021-05-25T08:44:05.943637Z",
     "start_time": "2021-05-25T08:44:05.938629Z"
    }
   },
   "outputs": [],
   "source": [
    "df = df_at.append(df_no, ignore_index=True, sort=False)"
   ]
  },
  {
   "cell_type": "code",
   "execution_count": 307,
   "id": "marine-triple",
   "metadata": {
    "ExecuteTime": {
     "end_time": "2021-05-25T08:44:07.223248Z",
     "start_time": "2021-05-25T08:44:07.214466Z"
    }
   },
   "outputs": [
    {
     "data": {
      "text/html": [
       "<div>\n",
       "<style scoped>\n",
       "    .dataframe tbody tr th:only-of-type {\n",
       "        vertical-align: middle;\n",
       "    }\n",
       "\n",
       "    .dataframe tbody tr th {\n",
       "        vertical-align: top;\n",
       "    }\n",
       "\n",
       "    .dataframe thead th {\n",
       "        text-align: right;\n",
       "    }\n",
       "</style>\n",
       "<table border=\"1\" class=\"dataframe\">\n",
       "  <thead>\n",
       "    <tr style=\"text-align: right;\">\n",
       "      <th></th>\n",
       "      <th>Log</th>\n",
       "      <th>Label</th>\n",
       "    </tr>\n",
       "  </thead>\n",
       "  <tbody>\n",
       "    <tr>\n",
       "      <th>0</th>\n",
       "      <td>36.72.215.113 - - [23/Apr/2021:02:30:47 +0000] \"GET /mod.php?kategori=lounge&amp;id=4%20order%20by%2...</td>\n",
       "      <td>1</td>\n",
       "    </tr>\n",
       "    <tr>\n",
       "      <th>1</th>\n",
       "      <td>36.72.215.113 - - [23/Apr/2021:02:30:52 +0000] \"GET /mod.php?kategori=lounge&amp;id=4%20order%20by%2...</td>\n",
       "      <td>1</td>\n",
       "    </tr>\n",
       "    <tr>\n",
       "      <th>2</th>\n",
       "      <td>36.72.215.113 - - [23/Apr/2021:02:30:58 +0000] \"GET /mod.php?kategori=lounge&amp;id=4%20order%20by%2...</td>\n",
       "      <td>1</td>\n",
       "    </tr>\n",
       "    <tr>\n",
       "      <th>3</th>\n",
       "      <td>36.72.215.113 - - [23/Apr/2021:02:31:06 +0000] \"GET /mod.php?kategori=lounge&amp;id=4%20order%20by%2...</td>\n",
       "      <td>1</td>\n",
       "    </tr>\n",
       "    <tr>\n",
       "      <th>4</th>\n",
       "      <td>36.72.215.113 - - [23/Apr/2021:02:31:09 +0000] \"GET /mod.php?kategori=lounge&amp;id=4%20order%20by%2...</td>\n",
       "      <td>1</td>\n",
       "    </tr>\n",
       "  </tbody>\n",
       "</table>\n",
       "</div>"
      ],
      "text/plain": [
       "                                                                                                   Log  \\\n",
       "0  36.72.215.113 - - [23/Apr/2021:02:30:47 +0000] \"GET /mod.php?kategori=lounge&id=4%20order%20by%2...   \n",
       "1  36.72.215.113 - - [23/Apr/2021:02:30:52 +0000] \"GET /mod.php?kategori=lounge&id=4%20order%20by%2...   \n",
       "2  36.72.215.113 - - [23/Apr/2021:02:30:58 +0000] \"GET /mod.php?kategori=lounge&id=4%20order%20by%2...   \n",
       "3  36.72.215.113 - - [23/Apr/2021:02:31:06 +0000] \"GET /mod.php?kategori=lounge&id=4%20order%20by%2...   \n",
       "4  36.72.215.113 - - [23/Apr/2021:02:31:09 +0000] \"GET /mod.php?kategori=lounge&id=4%20order%20by%2...   \n",
       "\n",
       "   Label  \n",
       "0      1  \n",
       "1      1  \n",
       "2      1  \n",
       "3      1  \n",
       "4      1  "
      ]
     },
     "execution_count": 307,
     "metadata": {},
     "output_type": "execute_result"
    }
   ],
   "source": [
    "df_at.head()"
   ]
  },
  {
   "cell_type": "code",
   "execution_count": 308,
   "id": "failing-maine",
   "metadata": {
    "ExecuteTime": {
     "end_time": "2021-05-25T08:44:10.467049Z",
     "start_time": "2021-05-25T08:44:10.458073Z"
    }
   },
   "outputs": [
    {
     "data": {
      "text/html": [
       "<div>\n",
       "<style scoped>\n",
       "    .dataframe tbody tr th:only-of-type {\n",
       "        vertical-align: middle;\n",
       "    }\n",
       "\n",
       "    .dataframe tbody tr th {\n",
       "        vertical-align: top;\n",
       "    }\n",
       "\n",
       "    .dataframe thead th {\n",
       "        text-align: right;\n",
       "    }\n",
       "</style>\n",
       "<table border=\"1\" class=\"dataframe\">\n",
       "  <thead>\n",
       "    <tr style=\"text-align: right;\">\n",
       "      <th></th>\n",
       "      <th>Log</th>\n",
       "      <th>Label</th>\n",
       "    </tr>\n",
       "  </thead>\n",
       "  <tbody>\n",
       "    <tr>\n",
       "      <th>0</th>\n",
       "      <td>36.72.215.113 - - [23/Apr/2021:02:30:47 +0000] \"GET /mod.php?kategori=lounge&amp;id=4%20order%20by%2...</td>\n",
       "      <td>1</td>\n",
       "    </tr>\n",
       "    <tr>\n",
       "      <th>1</th>\n",
       "      <td>36.72.215.113 - - [23/Apr/2021:02:30:52 +0000] \"GET /mod.php?kategori=lounge&amp;id=4%20order%20by%2...</td>\n",
       "      <td>1</td>\n",
       "    </tr>\n",
       "    <tr>\n",
       "      <th>2</th>\n",
       "      <td>36.72.215.113 - - [23/Apr/2021:02:30:58 +0000] \"GET /mod.php?kategori=lounge&amp;id=4%20order%20by%2...</td>\n",
       "      <td>1</td>\n",
       "    </tr>\n",
       "    <tr>\n",
       "      <th>3</th>\n",
       "      <td>36.72.215.113 - - [23/Apr/2021:02:31:06 +0000] \"GET /mod.php?kategori=lounge&amp;id=4%20order%20by%2...</td>\n",
       "      <td>1</td>\n",
       "    </tr>\n",
       "    <tr>\n",
       "      <th>4</th>\n",
       "      <td>36.72.215.113 - - [23/Apr/2021:02:31:09 +0000] \"GET /mod.php?kategori=lounge&amp;id=4%20order%20by%2...</td>\n",
       "      <td>1</td>\n",
       "    </tr>\n",
       "  </tbody>\n",
       "</table>\n",
       "</div>"
      ],
      "text/plain": [
       "                                                                                                   Log  \\\n",
       "0  36.72.215.113 - - [23/Apr/2021:02:30:47 +0000] \"GET /mod.php?kategori=lounge&id=4%20order%20by%2...   \n",
       "1  36.72.215.113 - - [23/Apr/2021:02:30:52 +0000] \"GET /mod.php?kategori=lounge&id=4%20order%20by%2...   \n",
       "2  36.72.215.113 - - [23/Apr/2021:02:30:58 +0000] \"GET /mod.php?kategori=lounge&id=4%20order%20by%2...   \n",
       "3  36.72.215.113 - - [23/Apr/2021:02:31:06 +0000] \"GET /mod.php?kategori=lounge&id=4%20order%20by%2...   \n",
       "4  36.72.215.113 - - [23/Apr/2021:02:31:09 +0000] \"GET /mod.php?kategori=lounge&id=4%20order%20by%2...   \n",
       "\n",
       "   Label  \n",
       "0      1  \n",
       "1      1  \n",
       "2      1  \n",
       "3      1  \n",
       "4      1  "
      ]
     },
     "execution_count": 308,
     "metadata": {},
     "output_type": "execute_result"
    }
   ],
   "source": [
    "df.head()"
   ]
  },
  {
   "cell_type": "code",
   "execution_count": 309,
   "id": "sophisticated-empty",
   "metadata": {
    "ExecuteTime": {
     "end_time": "2021-05-25T08:44:13.058366Z",
     "start_time": "2021-05-25T08:44:12.944883Z"
    }
   },
   "outputs": [
    {
     "data": {
      "text/plain": [
       "<AxesSubplot:title={'center':'Count (target)'}>"
      ]
     },
     "execution_count": 309,
     "metadata": {},
     "output_type": "execute_result"
    },
    {
     "data": {
      "image/png": "[encoded data removed]",
      "text/plain": [
       "<Figure size 432x288 with 1 Axes>"
      ]
     },
     "metadata": {
      "needs_background": "light"
     },
     "output_type": "display_data"
    }
   ],
   "source": [
    "df.Label.value_counts().plot(kind='bar', title='Count (target)')"
   ]
  },
  {
   "cell_type": "code",
   "execution_count": 310,
   "id": "critical-vatican",
   "metadata": {
    "ExecuteTime": {
     "end_time": "2021-05-25T08:44:14.792682Z",
     "start_time": "2021-05-25T08:44:14.786698Z"
    }
   },
   "outputs": [
    {
     "data": {
      "text/plain": [
       "(1476, 2)"
      ]
     },
     "execution_count": 310,
     "metadata": {},
     "output_type": "execute_result"
    }
   ],
   "source": [
    "df_at.shape"
   ]
  },
  {
   "cell_type": "markdown",
   "id": "academic-drunk",
   "metadata": {},
   "source": [
    "### Preprocessing"
   ]
  },
  {
   "cell_type": "code",
   "execution_count": 311,
   "id": "focused-arcade",
   "metadata": {
    "ExecuteTime": {
     "end_time": "2021-05-25T08:44:17.857494Z",
     "start_time": "2021-05-25T08:44:17.834495Z"
    }
   },
   "outputs": [],
   "source": [
    "def preprocessing(df):\n",
    "    df['Ip'] = df['Log'].str.split(' - - ').str[0]\n",
    "\n",
    "    df['Time'] = df['Log'].str.split('] ').str[0]\n",
    "    df['Time'] = df['Time'].str.split(' - - ').str[1]+']'\n",
    "\n",
    "    df['Log2'] = df['Log'].str.split('] ').str[1]\n",
    "\n",
    "\n",
    "    df['Request'] = df['Log2'].str.split('\"').str[1]\n",
    "    df['Request'] = df['Request'].apply(lambda x : re.sub(r'^.*?php?', '', x))\n",
    "\n",
    "    df['Angka'] = df['Log2'].str.split('\"').str[2]\n",
    "\n",
    "    df['Kembalian'] = df['Log2'].str.split('\"').str[3]\n",
    "\n",
    "    df['User_Header'] = df['Log2'].str.split('\"').str[-2]\n",
    "\n",
    "    df.drop(['Log','Log2','Angka','Kembalian','User_Header'], axis=1, inplace=True)\n",
    "    \n",
    "    return df\n",
    "\n",
    "def preprocess(a):\n",
    "    a = a.lower().replace('(',' ').replace(')',' ').strip()\n",
    "    a = ' '.join(a.split())\n",
    "    a = a.split()\n",
    "    return a\n",
    "\n",
    "def count_string2(data, list_words):\n",
    "    total = 0\n",
    "    for word in list_words:\n",
    "        counter = data.count(word)\n",
    "        total += counter\n",
    "    return total\n",
    "\n",
    "def check_always_true(data):\n",
    "    return bool(re.findall(r\"\\d=\\d\",data))\n",
    "\n",
    "def feature_engineering(df):\n",
    "    df['Request1'] = df['Request'].str.replace('GET /', '')\n",
    "    df['Request1'] = df['Request1'].str.replace('POST /', '')\n",
    "    df['Request1'] = df['Request1'].str.replace('HTTP/1.1', '')\n",
    "    df['Request1'] = df['Request1'].str.lower()\n",
    "    df['Request2'] = df['Request1'].apply(lambda x : unquote(x))\n",
    "\n",
    "    df['Comment_Count'] = df['Request2'].apply(lambda x : count_string2(x, ['--','/**/']))\n",
    "    df['Operator_Count'] = df['Request2'].apply(lambda x : count_string2(x, ['<','>','<=','>=', '==', '!=','&&', '||' '<<', '>>', '|', '+', '%', '^']))\n",
    "    df['SqlKeyword_Count'] = df['Request2'].apply(lambda x : count_string2(x, ['select', 'update', 'insert', 'create', 'drop', 'alter', 'rename', 'group', 'union', 'having', \n",
    "                                                                            'concat', 'order','values', 'declare', 'substring', 'table']))\n",
    "    df.loc[df['SqlKeyword_Count']>=1, 'Any_SQL_Keyword'] = 1\n",
    "    df.loc[df['SqlKeyword_Count']<1, 'Any_SQL_Keyword'] = 0\n",
    "    df['Any_SQL_Keyword'] = df['Any_SQL_Keyword'].astype(bool)\n",
    "\n",
    "    df['Semicolon_Count'] = df['Request2'].apply(lambda x : count_string2(x, ';'))\n",
    "\n",
    "    df['Any_Always_True'] = df['Request2'].apply(lambda x: check_always_true(x))\n",
    "\n",
    "    df = df[[ 'Label', 'Ip', 'Time','Request2',\n",
    "           'Comment_Count', 'Operator_Count',\n",
    "           'SqlKeyword_Count', 'Any_Always_True','Any_SQL_Keyword','Semicolon_Count']]\n",
    "    \n",
    "    return df\n",
    "\n",
    "def clean_text(text):\n",
    "    text_rc = re.sub('[0-9]+', '', text)\n",
    "    tokens = re.split('\\W+', text_rc)    # tokenization\n",
    "    return tokens\n",
    "\n",
    "def term_frequency(df):\n",
    "    vectorizer = CountVectorizer(analyzer=clean_text, decode_error=\"replace\",vocabulary=pickle.load(open(\"vocab.pkl\", \"rb\")))\n",
    "    tfidf = vectorizer.fit_transform(df['Request2'])\n",
    "\n",
    "    vect_df = pd.DataFrame(tfidf.toarray(), columns=vectorizer.get_feature_names())\n",
    "    vect_df = vect_df[['select', 'union', 'concat', 'null', 'like', 'or','exec','and','having','char', 'order']]\n",
    "    df_tf = pd.concat([df.reset_index(drop=True), vect_df.reset_index(drop=True)], axis=1)\n",
    "    pickle.dump(vectorizer.vocabulary_,open(\"vocab.pkl\",\"wb\"))\n",
    "\n",
    "    return df_tf\n",
    "\n",
    "def pipeline(df):\n",
    "    test_bersih = preprocessing(df)\n",
    "    test_fe = feature_engineering(test_bersih)\n",
    "    test_tf = term_frequency(test_fe)\n",
    "    \n",
    "    return test_tf"
   ]
  },
  {
   "cell_type": "markdown",
   "id": "activated-antique",
   "metadata": {},
   "source": [
    "#### Split Data"
   ]
  },
  {
   "cell_type": "code",
   "execution_count": 312,
   "id": "satisfactory-yugoslavia",
   "metadata": {
    "ExecuteTime": {
     "end_time": "2021-05-25T08:44:28.804877Z",
     "start_time": "2021-05-25T08:44:28.755159Z"
    }
   },
   "outputs": [],
   "source": [
    "df_split = preprocessing(df)"
   ]
  },
  {
   "cell_type": "code",
   "execution_count": 313,
   "id": "hollow-evolution",
   "metadata": {
    "ExecuteTime": {
     "end_time": "2021-05-25T08:44:29.907748Z",
     "start_time": "2021-05-25T08:44:29.897717Z"
    }
   },
   "outputs": [
    {
     "data": {
      "text/html": [
       "<div>\n",
       "<style scoped>\n",
       "    .dataframe tbody tr th:only-of-type {\n",
       "        vertical-align: middle;\n",
       "    }\n",
       "\n",
       "    .dataframe tbody tr th {\n",
       "        vertical-align: top;\n",
       "    }\n",
       "\n",
       "    .dataframe thead th {\n",
       "        text-align: right;\n",
       "    }\n",
       "</style>\n",
       "<table border=\"1\" class=\"dataframe\">\n",
       "  <thead>\n",
       "    <tr style=\"text-align: right;\">\n",
       "      <th></th>\n",
       "      <th>Label</th>\n",
       "      <th>Ip</th>\n",
       "      <th>Time</th>\n",
       "      <th>Request</th>\n",
       "    </tr>\n",
       "  </thead>\n",
       "  <tbody>\n",
       "    <tr>\n",
       "      <th>0</th>\n",
       "      <td>1</td>\n",
       "      <td>36.72.215.113</td>\n",
       "      <td>[23/Apr/2021:02:30:47 +0000]</td>\n",
       "      <td>?kategori=lounge&amp;id=4%20order%20by%2010--%20- HTTP/1.1</td>\n",
       "    </tr>\n",
       "    <tr>\n",
       "      <th>1</th>\n",
       "      <td>1</td>\n",
       "      <td>36.72.215.113</td>\n",
       "      <td>[23/Apr/2021:02:30:52 +0000]</td>\n",
       "      <td>?kategori=lounge&amp;id=4%20order%20by%20106--%20- HTTP/1.1</td>\n",
       "    </tr>\n",
       "    <tr>\n",
       "      <th>2</th>\n",
       "      <td>1</td>\n",
       "      <td>36.72.215.113</td>\n",
       "      <td>[23/Apr/2021:02:30:58 +0000]</td>\n",
       "      <td>?kategori=lounge&amp;id=4%20order%20by%20101--%20- HTTP/1.1</td>\n",
       "    </tr>\n",
       "    <tr>\n",
       "      <th>3</th>\n",
       "      <td>1</td>\n",
       "      <td>36.72.215.113</td>\n",
       "      <td>[23/Apr/2021:02:31:06 +0000]</td>\n",
       "      <td>?kategori=lounge&amp;id=4%20order%20by%201--%20- HTTP/1.1</td>\n",
       "    </tr>\n",
       "    <tr>\n",
       "      <th>4</th>\n",
       "      <td>1</td>\n",
       "      <td>36.72.215.113</td>\n",
       "      <td>[23/Apr/2021:02:31:09 +0000]</td>\n",
       "      <td>?kategori=lounge&amp;id=4%20order%20by%202--%20- HTTP/1.1</td>\n",
       "    </tr>\n",
       "  </tbody>\n",
       "</table>\n",
       "</div>"
      ],
      "text/plain": [
       "   Label             Ip                          Time  \\\n",
       "0      1  36.72.215.113  [23/Apr/2021:02:30:47 +0000]   \n",
       "1      1  36.72.215.113  [23/Apr/2021:02:30:52 +0000]   \n",
       "2      1  36.72.215.113  [23/Apr/2021:02:30:58 +0000]   \n",
       "3      1  36.72.215.113  [23/Apr/2021:02:31:06 +0000]   \n",
       "4      1  36.72.215.113  [23/Apr/2021:02:31:09 +0000]   \n",
       "\n",
       "                                                   Request  \n",
       "0   ?kategori=lounge&id=4%20order%20by%2010--%20- HTTP/1.1  \n",
       "1  ?kategori=lounge&id=4%20order%20by%20106--%20- HTTP/1.1  \n",
       "2  ?kategori=lounge&id=4%20order%20by%20101--%20- HTTP/1.1  \n",
       "3    ?kategori=lounge&id=4%20order%20by%201--%20- HTTP/1.1  \n",
       "4    ?kategori=lounge&id=4%20order%20by%202--%20- HTTP/1.1  "
      ]
     },
     "execution_count": 313,
     "metadata": {},
     "output_type": "execute_result"
    }
   ],
   "source": [
    "df_split.head()"
   ]
  },
  {
   "cell_type": "markdown",
   "id": "introductory-bloom",
   "metadata": {},
   "source": [
    "#### Feature Engineering"
   ]
  },
  {
   "cell_type": "code",
   "execution_count": 314,
   "id": "bright-clone",
   "metadata": {
    "ExecuteTime": {
     "end_time": "2021-05-25T08:44:31.895846Z",
     "start_time": "2021-05-25T08:44:31.815223Z"
    }
   },
   "outputs": [],
   "source": [
    "df_fe = feature_engineering(df_split)"
   ]
  },
  {
   "cell_type": "code",
   "execution_count": 315,
   "id": "ceramic-fancy",
   "metadata": {
    "ExecuteTime": {
     "end_time": "2021-05-25T08:44:32.878116Z",
     "start_time": "2021-05-25T08:44:32.865152Z"
    }
   },
   "outputs": [
    {
     "data": {
      "text/html": [
       "<div>\n",
       "<style scoped>\n",
       "    .dataframe tbody tr th:only-of-type {\n",
       "        vertical-align: middle;\n",
       "    }\n",
       "\n",
       "    .dataframe tbody tr th {\n",
       "        vertical-align: top;\n",
       "    }\n",
       "\n",
       "    .dataframe thead th {\n",
       "        text-align: right;\n",
       "    }\n",
       "</style>\n",
       "<table border=\"1\" class=\"dataframe\">\n",
       "  <thead>\n",
       "    <tr style=\"text-align: right;\">\n",
       "      <th></th>\n",
       "      <th>Label</th>\n",
       "      <th>Ip</th>\n",
       "      <th>Time</th>\n",
       "      <th>Request2</th>\n",
       "      <th>Comment_Count</th>\n",
       "      <th>Operator_Count</th>\n",
       "      <th>SqlKeyword_Count</th>\n",
       "      <th>Any_Always_True</th>\n",
       "      <th>Any_SQL_Keyword</th>\n",
       "      <th>Semicolon_Count</th>\n",
       "    </tr>\n",
       "  </thead>\n",
       "  <tbody>\n",
       "    <tr>\n",
       "      <th>1666</th>\n",
       "      <td>0</td>\n",
       "      <td>36.72.215.113</td>\n",
       "      <td>[23/Apr/2021:02:29:59 +0000]</td>\n",
       "      <td>images/header-bg.png</td>\n",
       "      <td>0</td>\n",
       "      <td>0</td>\n",
       "      <td>0</td>\n",
       "      <td>False</td>\n",
       "      <td>False</td>\n",
       "      <td>0</td>\n",
       "    </tr>\n",
       "    <tr>\n",
       "      <th>1667</th>\n",
       "      <td>0</td>\n",
       "      <td>36.72.215.113</td>\n",
       "      <td>[23/Apr/2021:02:29:59 +0000]</td>\n",
       "      <td>images/loginform-bg.png</td>\n",
       "      <td>0</td>\n",
       "      <td>0</td>\n",
       "      <td>0</td>\n",
       "      <td>False</td>\n",
       "      <td>False</td>\n",
       "      <td>0</td>\n",
       "    </tr>\n",
       "    <tr>\n",
       "      <th>1668</th>\n",
       "      <td>0</td>\n",
       "      <td>36.72.215.113</td>\n",
       "      <td>[23/Apr/2021:02:29:59 +0000]</td>\n",
       "      <td>images/list_icon.png</td>\n",
       "      <td>0</td>\n",
       "      <td>0</td>\n",
       "      <td>0</td>\n",
       "      <td>False</td>\n",
       "      <td>False</td>\n",
       "      <td>0</td>\n",
       "    </tr>\n",
       "    <tr>\n",
       "      <th>1669</th>\n",
       "      <td>0</td>\n",
       "      <td>36.72.215.113</td>\n",
       "      <td>[23/Apr/2021:02:30:01 +0000]</td>\n",
       "      <td>?kategori=lounge&amp;id=4</td>\n",
       "      <td>0</td>\n",
       "      <td>0</td>\n",
       "      <td>0</td>\n",
       "      <td>False</td>\n",
       "      <td>False</td>\n",
       "      <td>0</td>\n",
       "    </tr>\n",
       "    <tr>\n",
       "      <th>1670</th>\n",
       "      <td>0</td>\n",
       "      <td>36.72.215.113</td>\n",
       "      <td>[23/Apr/2021:02:30:18 +0000]</td>\n",
       "      <td>?kategori=lounge&amp;id=4'</td>\n",
       "      <td>0</td>\n",
       "      <td>0</td>\n",
       "      <td>0</td>\n",
       "      <td>False</td>\n",
       "      <td>False</td>\n",
       "      <td>0</td>\n",
       "    </tr>\n",
       "  </tbody>\n",
       "</table>\n",
       "</div>"
      ],
      "text/plain": [
       "      Label             Ip                          Time  \\\n",
       "1666      0  36.72.215.113  [23/Apr/2021:02:29:59 +0000]   \n",
       "1667      0  36.72.215.113  [23/Apr/2021:02:29:59 +0000]   \n",
       "1668      0  36.72.215.113  [23/Apr/2021:02:29:59 +0000]   \n",
       "1669      0  36.72.215.113  [23/Apr/2021:02:30:01 +0000]   \n",
       "1670      0  36.72.215.113  [23/Apr/2021:02:30:18 +0000]   \n",
       "\n",
       "                      Request2  Comment_Count  Operator_Count  \\\n",
       "1666     images/header-bg.png               0               0   \n",
       "1667  images/loginform-bg.png               0               0   \n",
       "1668     images/list_icon.png               0               0   \n",
       "1669    ?kategori=lounge&id=4               0               0   \n",
       "1670   ?kategori=lounge&id=4'               0               0   \n",
       "\n",
       "      SqlKeyword_Count  Any_Always_True  Any_SQL_Keyword  Semicolon_Count  \n",
       "1666                 0            False            False                0  \n",
       "1667                 0            False            False                0  \n",
       "1668                 0            False            False                0  \n",
       "1669                 0            False            False                0  \n",
       "1670                 0            False            False                0  "
      ]
     },
     "execution_count": 315,
     "metadata": {},
     "output_type": "execute_result"
    }
   ],
   "source": [
    "df_fe.tail()"
   ]
  },
  {
   "cell_type": "markdown",
   "id": "adverse-prize",
   "metadata": {},
   "source": [
    "#### Term Frequency & TF-Idf"
   ]
  },
  {
   "cell_type": "code",
   "execution_count": 316,
   "id": "judicial-waters",
   "metadata": {
    "ExecuteTime": {
     "end_time": "2021-05-25T08:44:42.547708Z",
     "start_time": "2021-05-25T08:44:42.503811Z"
    }
   },
   "outputs": [],
   "source": [
    "df_tf = term_frequency(df_fe)"
   ]
  },
  {
   "cell_type": "code",
   "execution_count": 396,
   "id": "entitled-consumption",
   "metadata": {
    "ExecuteTime": {
     "end_time": "2021-05-25T09:59:16.612588Z",
     "start_time": "2021-05-25T09:59:16.595630Z"
    }
   },
   "outputs": [
    {
     "data": {
      "text/html": [
       "<div>\n",
       "<style scoped>\n",
       "    .dataframe tbody tr th:only-of-type {\n",
       "        vertical-align: middle;\n",
       "    }\n",
       "\n",
       "    .dataframe tbody tr th {\n",
       "        vertical-align: top;\n",
       "    }\n",
       "\n",
       "    .dataframe thead th {\n",
       "        text-align: right;\n",
       "    }\n",
       "</style>\n",
       "<table border=\"1\" class=\"dataframe\">\n",
       "  <thead>\n",
       "    <tr style=\"text-align: right;\">\n",
       "      <th></th>\n",
       "      <th>Label</th>\n",
       "      <th>Ip</th>\n",
       "      <th>Time</th>\n",
       "      <th>Request2</th>\n",
       "      <th>Comment_Count</th>\n",
       "      <th>Operator_Count</th>\n",
       "      <th>SqlKeyword_Count</th>\n",
       "      <th>Any_Always_True</th>\n",
       "      <th>Any_SQL_Keyword</th>\n",
       "      <th>Semicolon_Count</th>\n",
       "      <th>select</th>\n",
       "      <th>union</th>\n",
       "      <th>concat</th>\n",
       "      <th>null</th>\n",
       "      <th>like</th>\n",
       "      <th>or</th>\n",
       "      <th>exec</th>\n",
       "      <th>and</th>\n",
       "      <th>having</th>\n",
       "      <th>char</th>\n",
       "      <th>order</th>\n",
       "    </tr>\n",
       "  </thead>\n",
       "  <tbody>\n",
       "    <tr>\n",
       "      <th>0</th>\n",
       "      <td>1</td>\n",
       "      <td>36.72.215.113</td>\n",
       "      <td>[23/Apr/2021:02:30:47 +0000]</td>\n",
       "      <td>?kategori=lounge&amp;id=4 order by 10-- -</td>\n",
       "      <td>1</td>\n",
       "      <td>0</td>\n",
       "      <td>1</td>\n",
       "      <td>False</td>\n",
       "      <td>True</td>\n",
       "      <td>0</td>\n",
       "      <td>0</td>\n",
       "      <td>0</td>\n",
       "      <td>0</td>\n",
       "      <td>0</td>\n",
       "      <td>0</td>\n",
       "      <td>0</td>\n",
       "      <td>0</td>\n",
       "      <td>0</td>\n",
       "      <td>0</td>\n",
       "      <td>0</td>\n",
       "      <td>1</td>\n",
       "    </tr>\n",
       "    <tr>\n",
       "      <th>1</th>\n",
       "      <td>1</td>\n",
       "      <td>36.72.215.113</td>\n",
       "      <td>[23/Apr/2021:02:30:52 +0000]</td>\n",
       "      <td>?kategori=lounge&amp;id=4 order by 106-- -</td>\n",
       "      <td>1</td>\n",
       "      <td>0</td>\n",
       "      <td>1</td>\n",
       "      <td>False</td>\n",
       "      <td>True</td>\n",
       "      <td>0</td>\n",
       "      <td>0</td>\n",
       "      <td>0</td>\n",
       "      <td>0</td>\n",
       "      <td>0</td>\n",
       "      <td>0</td>\n",
       "      <td>0</td>\n",
       "      <td>0</td>\n",
       "      <td>0</td>\n",
       "      <td>0</td>\n",
       "      <td>0</td>\n",
       "      <td>1</td>\n",
       "    </tr>\n",
       "    <tr>\n",
       "      <th>2</th>\n",
       "      <td>1</td>\n",
       "      <td>36.72.215.113</td>\n",
       "      <td>[23/Apr/2021:02:30:58 +0000]</td>\n",
       "      <td>?kategori=lounge&amp;id=4 order by 101-- -</td>\n",
       "      <td>1</td>\n",
       "      <td>0</td>\n",
       "      <td>1</td>\n",
       "      <td>False</td>\n",
       "      <td>True</td>\n",
       "      <td>0</td>\n",
       "      <td>0</td>\n",
       "      <td>0</td>\n",
       "      <td>0</td>\n",
       "      <td>0</td>\n",
       "      <td>0</td>\n",
       "      <td>0</td>\n",
       "      <td>0</td>\n",
       "      <td>0</td>\n",
       "      <td>0</td>\n",
       "      <td>0</td>\n",
       "      <td>1</td>\n",
       "    </tr>\n",
       "    <tr>\n",
       "      <th>3</th>\n",
       "      <td>1</td>\n",
       "      <td>36.72.215.113</td>\n",
       "      <td>[23/Apr/2021:02:31:06 +0000]</td>\n",
       "      <td>?kategori=lounge&amp;id=4 order by 1-- -</td>\n",
       "      <td>1</td>\n",
       "      <td>0</td>\n",
       "      <td>1</td>\n",
       "      <td>False</td>\n",
       "      <td>True</td>\n",
       "      <td>0</td>\n",
       "      <td>0</td>\n",
       "      <td>0</td>\n",
       "      <td>0</td>\n",
       "      <td>0</td>\n",
       "      <td>0</td>\n",
       "      <td>0</td>\n",
       "      <td>0</td>\n",
       "      <td>0</td>\n",
       "      <td>0</td>\n",
       "      <td>0</td>\n",
       "      <td>1</td>\n",
       "    </tr>\n",
       "    <tr>\n",
       "      <th>4</th>\n",
       "      <td>1</td>\n",
       "      <td>36.72.215.113</td>\n",
       "      <td>[23/Apr/2021:02:31:09 +0000]</td>\n",
       "      <td>?kategori=lounge&amp;id=4 order by 2-- -</td>\n",
       "      <td>1</td>\n",
       "      <td>0</td>\n",
       "      <td>1</td>\n",
       "      <td>False</td>\n",
       "      <td>True</td>\n",
       "      <td>0</td>\n",
       "      <td>0</td>\n",
       "      <td>0</td>\n",
       "      <td>0</td>\n",
       "      <td>0</td>\n",
       "      <td>0</td>\n",
       "      <td>0</td>\n",
       "      <td>0</td>\n",
       "      <td>0</td>\n",
       "      <td>0</td>\n",
       "      <td>0</td>\n",
       "      <td>1</td>\n",
       "    </tr>\n",
       "  </tbody>\n",
       "</table>\n",
       "</div>"
      ],
      "text/plain": [
       "   Label             Ip                          Time  \\\n",
       "0      1  36.72.215.113  [23/Apr/2021:02:30:47 +0000]   \n",
       "1      1  36.72.215.113  [23/Apr/2021:02:30:52 +0000]   \n",
       "2      1  36.72.215.113  [23/Apr/2021:02:30:58 +0000]   \n",
       "3      1  36.72.215.113  [23/Apr/2021:02:31:06 +0000]   \n",
       "4      1  36.72.215.113  [23/Apr/2021:02:31:09 +0000]   \n",
       "\n",
       "                                  Request2  Comment_Count  Operator_Count  \\\n",
       "0   ?kategori=lounge&id=4 order by 10-- -               1               0   \n",
       "1  ?kategori=lounge&id=4 order by 106-- -               1               0   \n",
       "2  ?kategori=lounge&id=4 order by 101-- -               1               0   \n",
       "3    ?kategori=lounge&id=4 order by 1-- -               1               0   \n",
       "4    ?kategori=lounge&id=4 order by 2-- -               1               0   \n",
       "\n",
       "   SqlKeyword_Count  Any_Always_True  Any_SQL_Keyword  Semicolon_Count  \\\n",
       "0                 1            False             True                0   \n",
       "1                 1            False             True                0   \n",
       "2                 1            False             True                0   \n",
       "3                 1            False             True                0   \n",
       "4                 1            False             True                0   \n",
       "\n",
       "   select  union  concat  null  like  or  exec  and  having  char  order  \n",
       "0       0      0       0     0     0   0     0    0       0     0      1  \n",
       "1       0      0       0     0     0   0     0    0       0     0      1  \n",
       "2       0      0       0     0     0   0     0    0       0     0      1  \n",
       "3       0      0       0     0     0   0     0    0       0     0      1  \n",
       "4       0      0       0     0     0   0     0    0       0     0      1  "
      ]
     },
     "execution_count": 396,
     "metadata": {},
     "output_type": "execute_result"
    }
   ],
   "source": [
    "df_tf.head()"
   ]
  },
  {
   "cell_type": "markdown",
   "id": "civic-wireless",
   "metadata": {},
   "source": [
    "### Oversampling"
   ]
  },
  {
   "cell_type": "code",
   "execution_count": 340,
   "id": "wired-criterion",
   "metadata": {
    "ExecuteTime": {
     "end_time": "2021-05-25T08:49:44.733255Z",
     "start_time": "2021-05-25T08:49:44.714829Z"
    }
   },
   "outputs": [],
   "source": [
    "test = df_tf.copy()\n",
    "X_tf = test.drop(['Label',], axis=1)\n",
    "y_tf = test['Label']\n",
    "X_tf = X_tf.iloc[:,2:]\n",
    "X_tf = X_tf.drop_duplicates(keep='first')"
   ]
  },
  {
   "cell_type": "code",
   "execution_count": 349,
   "id": "illegal-sucking",
   "metadata": {
    "ExecuteTime": {
     "end_time": "2021-05-25T08:53:43.842115Z",
     "start_time": "2021-05-25T08:53:43.818470Z"
    }
   },
   "outputs": [
    {
     "name": "stdout",
     "output_type": "stream",
     "text": [
      "(761, 17)\n"
     ]
    }
   ],
   "source": [
    "test = df_tf.copy()\n",
    "test = test.drop_duplicates(keep='first', subset = ['Request2'])\n",
    "X_tf = test.drop(['Label',], axis=1)\n",
    "y_tf = test['Label']\n",
    "X_tf = X_tf.iloc[:,3:]\n",
    "print(X_tf.shape)\n",
    "\n",
    "smote = SMOTE(sampling_strategy='minority')\n",
    "X_sm_tf, y_sm_tf = smote.fit_sample(X_tf, y_tf)\n",
    "\n",
    "df_sm_tf = pd.concat([X_sm_tf, y_sm_tf.reindex(X_sm_tf.index)], axis=1)\n",
    "\n",
    "# Move Label to 1st\n",
    "first_column = df_sm_tf.pop('Label')\n",
    "df_sm_tf.insert(0, 'Label', first_column)"
   ]
  },
  {
   "cell_type": "code",
   "execution_count": 350,
   "id": "innocent-illness",
   "metadata": {
    "ExecuteTime": {
     "end_time": "2021-05-25T08:53:47.519960Z",
     "start_time": "2021-05-25T08:53:47.502975Z"
    }
   },
   "outputs": [
    {
     "data": {
      "text/html": [
       "<div>\n",
       "<style scoped>\n",
       "    .dataframe tbody tr th:only-of-type {\n",
       "        vertical-align: middle;\n",
       "    }\n",
       "\n",
       "    .dataframe tbody tr th {\n",
       "        vertical-align: top;\n",
       "    }\n",
       "\n",
       "    .dataframe thead th {\n",
       "        text-align: right;\n",
       "    }\n",
       "</style>\n",
       "<table border=\"1\" class=\"dataframe\">\n",
       "  <thead>\n",
       "    <tr style=\"text-align: right;\">\n",
       "      <th></th>\n",
       "      <th>Label</th>\n",
       "      <th>Comment_Count</th>\n",
       "      <th>Operator_Count</th>\n",
       "      <th>SqlKeyword_Count</th>\n",
       "      <th>Any_Always_True</th>\n",
       "      <th>Any_SQL_Keyword</th>\n",
       "      <th>Semicolon_Count</th>\n",
       "      <th>select</th>\n",
       "      <th>union</th>\n",
       "      <th>concat</th>\n",
       "      <th>null</th>\n",
       "      <th>like</th>\n",
       "      <th>or</th>\n",
       "      <th>exec</th>\n",
       "      <th>and</th>\n",
       "      <th>having</th>\n",
       "      <th>char</th>\n",
       "      <th>order</th>\n",
       "    </tr>\n",
       "  </thead>\n",
       "  <tbody>\n",
       "    <tr>\n",
       "      <th>1442</th>\n",
       "      <td>0</td>\n",
       "      <td>0</td>\n",
       "      <td>0</td>\n",
       "      <td>0</td>\n",
       "      <td>False</td>\n",
       "      <td>False</td>\n",
       "      <td>0</td>\n",
       "      <td>0</td>\n",
       "      <td>0</td>\n",
       "      <td>0</td>\n",
       "      <td>0</td>\n",
       "      <td>0</td>\n",
       "      <td>0</td>\n",
       "      <td>0</td>\n",
       "      <td>0</td>\n",
       "      <td>0</td>\n",
       "      <td>0</td>\n",
       "      <td>0</td>\n",
       "    </tr>\n",
       "    <tr>\n",
       "      <th>1443</th>\n",
       "      <td>0</td>\n",
       "      <td>0</td>\n",
       "      <td>0</td>\n",
       "      <td>0</td>\n",
       "      <td>False</td>\n",
       "      <td>False</td>\n",
       "      <td>0</td>\n",
       "      <td>0</td>\n",
       "      <td>0</td>\n",
       "      <td>0</td>\n",
       "      <td>0</td>\n",
       "      <td>0</td>\n",
       "      <td>0</td>\n",
       "      <td>0</td>\n",
       "      <td>0</td>\n",
       "      <td>0</td>\n",
       "      <td>0</td>\n",
       "      <td>0</td>\n",
       "    </tr>\n",
       "    <tr>\n",
       "      <th>1444</th>\n",
       "      <td>0</td>\n",
       "      <td>0</td>\n",
       "      <td>0</td>\n",
       "      <td>0</td>\n",
       "      <td>False</td>\n",
       "      <td>False</td>\n",
       "      <td>0</td>\n",
       "      <td>0</td>\n",
       "      <td>0</td>\n",
       "      <td>0</td>\n",
       "      <td>0</td>\n",
       "      <td>0</td>\n",
       "      <td>0</td>\n",
       "      <td>0</td>\n",
       "      <td>0</td>\n",
       "      <td>0</td>\n",
       "      <td>0</td>\n",
       "      <td>0</td>\n",
       "    </tr>\n",
       "    <tr>\n",
       "      <th>1445</th>\n",
       "      <td>0</td>\n",
       "      <td>0</td>\n",
       "      <td>0</td>\n",
       "      <td>0</td>\n",
       "      <td>False</td>\n",
       "      <td>False</td>\n",
       "      <td>0</td>\n",
       "      <td>0</td>\n",
       "      <td>0</td>\n",
       "      <td>0</td>\n",
       "      <td>0</td>\n",
       "      <td>0</td>\n",
       "      <td>0</td>\n",
       "      <td>0</td>\n",
       "      <td>0</td>\n",
       "      <td>0</td>\n",
       "      <td>0</td>\n",
       "      <td>0</td>\n",
       "    </tr>\n",
       "    <tr>\n",
       "      <th>1446</th>\n",
       "      <td>0</td>\n",
       "      <td>0</td>\n",
       "      <td>0</td>\n",
       "      <td>0</td>\n",
       "      <td>False</td>\n",
       "      <td>False</td>\n",
       "      <td>0</td>\n",
       "      <td>0</td>\n",
       "      <td>0</td>\n",
       "      <td>0</td>\n",
       "      <td>0</td>\n",
       "      <td>0</td>\n",
       "      <td>0</td>\n",
       "      <td>0</td>\n",
       "      <td>0</td>\n",
       "      <td>0</td>\n",
       "      <td>0</td>\n",
       "      <td>0</td>\n",
       "    </tr>\n",
       "    <tr>\n",
       "      <th>1447</th>\n",
       "      <td>0</td>\n",
       "      <td>0</td>\n",
       "      <td>0</td>\n",
       "      <td>0</td>\n",
       "      <td>False</td>\n",
       "      <td>False</td>\n",
       "      <td>0</td>\n",
       "      <td>0</td>\n",
       "      <td>0</td>\n",
       "      <td>0</td>\n",
       "      <td>0</td>\n",
       "      <td>0</td>\n",
       "      <td>0</td>\n",
       "      <td>0</td>\n",
       "      <td>0</td>\n",
       "      <td>0</td>\n",
       "      <td>0</td>\n",
       "      <td>0</td>\n",
       "    </tr>\n",
       "    <tr>\n",
       "      <th>1448</th>\n",
       "      <td>0</td>\n",
       "      <td>0</td>\n",
       "      <td>0</td>\n",
       "      <td>0</td>\n",
       "      <td>False</td>\n",
       "      <td>False</td>\n",
       "      <td>0</td>\n",
       "      <td>0</td>\n",
       "      <td>0</td>\n",
       "      <td>0</td>\n",
       "      <td>0</td>\n",
       "      <td>0</td>\n",
       "      <td>0</td>\n",
       "      <td>0</td>\n",
       "      <td>0</td>\n",
       "      <td>0</td>\n",
       "      <td>0</td>\n",
       "      <td>0</td>\n",
       "    </tr>\n",
       "    <tr>\n",
       "      <th>1449</th>\n",
       "      <td>0</td>\n",
       "      <td>0</td>\n",
       "      <td>0</td>\n",
       "      <td>0</td>\n",
       "      <td>False</td>\n",
       "      <td>False</td>\n",
       "      <td>0</td>\n",
       "      <td>0</td>\n",
       "      <td>0</td>\n",
       "      <td>0</td>\n",
       "      <td>0</td>\n",
       "      <td>0</td>\n",
       "      <td>0</td>\n",
       "      <td>0</td>\n",
       "      <td>0</td>\n",
       "      <td>0</td>\n",
       "      <td>0</td>\n",
       "      <td>0</td>\n",
       "    </tr>\n",
       "    <tr>\n",
       "      <th>1450</th>\n",
       "      <td>0</td>\n",
       "      <td>0</td>\n",
       "      <td>0</td>\n",
       "      <td>0</td>\n",
       "      <td>False</td>\n",
       "      <td>False</td>\n",
       "      <td>0</td>\n",
       "      <td>0</td>\n",
       "      <td>0</td>\n",
       "      <td>0</td>\n",
       "      <td>0</td>\n",
       "      <td>0</td>\n",
       "      <td>0</td>\n",
       "      <td>0</td>\n",
       "      <td>0</td>\n",
       "      <td>0</td>\n",
       "      <td>0</td>\n",
       "      <td>0</td>\n",
       "    </tr>\n",
       "    <tr>\n",
       "      <th>1451</th>\n",
       "      <td>0</td>\n",
       "      <td>0</td>\n",
       "      <td>0</td>\n",
       "      <td>0</td>\n",
       "      <td>False</td>\n",
       "      <td>False</td>\n",
       "      <td>0</td>\n",
       "      <td>0</td>\n",
       "      <td>0</td>\n",
       "      <td>0</td>\n",
       "      <td>0</td>\n",
       "      <td>0</td>\n",
       "      <td>0</td>\n",
       "      <td>0</td>\n",
       "      <td>0</td>\n",
       "      <td>0</td>\n",
       "      <td>0</td>\n",
       "      <td>0</td>\n",
       "    </tr>\n",
       "  </tbody>\n",
       "</table>\n",
       "</div>"
      ],
      "text/plain": [
       "      Label  Comment_Count  Operator_Count  SqlKeyword_Count  Any_Always_True  \\\n",
       "1442      0              0               0                 0            False   \n",
       "1443      0              0               0                 0            False   \n",
       "1444      0              0               0                 0            False   \n",
       "1445      0              0               0                 0            False   \n",
       "1446      0              0               0                 0            False   \n",
       "1447      0              0               0                 0            False   \n",
       "1448      0              0               0                 0            False   \n",
       "1449      0              0               0                 0            False   \n",
       "1450      0              0               0                 0            False   \n",
       "1451      0              0               0                 0            False   \n",
       "\n",
       "      Any_SQL_Keyword  Semicolon_Count  select  union  concat  null  like  or  \\\n",
       "1442            False                0       0      0       0     0     0   0   \n",
       "1443            False                0       0      0       0     0     0   0   \n",
       "1444            False                0       0      0       0     0     0   0   \n",
       "1445            False                0       0      0       0     0     0   0   \n",
       "1446            False                0       0      0       0     0     0   0   \n",
       "1447            False                0       0      0       0     0     0   0   \n",
       "1448            False                0       0      0       0     0     0   0   \n",
       "1449            False                0       0      0       0     0     0   0   \n",
       "1450            False                0       0      0       0     0     0   0   \n",
       "1451            False                0       0      0       0     0     0   0   \n",
       "\n",
       "      exec  and  having  char  order  \n",
       "1442     0    0       0     0      0  \n",
       "1443     0    0       0     0      0  \n",
       "1444     0    0       0     0      0  \n",
       "1445     0    0       0     0      0  \n",
       "1446     0    0       0     0      0  \n",
       "1447     0    0       0     0      0  \n",
       "1448     0    0       0     0      0  \n",
       "1449     0    0       0     0      0  \n",
       "1450     0    0       0     0      0  \n",
       "1451     0    0       0     0      0  "
      ]
     },
     "execution_count": 350,
     "metadata": {},
     "output_type": "execute_result"
    }
   ],
   "source": [
    "df_sm_tf.tail(10)"
   ]
  },
  {
   "cell_type": "code",
   "execution_count": 351,
   "id": "light-ivory",
   "metadata": {
    "ExecuteTime": {
     "end_time": "2021-05-25T08:53:52.576725Z",
     "start_time": "2021-05-25T08:53:52.458654Z"
    }
   },
   "outputs": [
    {
     "data": {
      "text/plain": [
       "<AxesSubplot:title={'center':'Count (target)'}>"
      ]
     },
     "execution_count": 351,
     "metadata": {},
     "output_type": "execute_result"
    },
    {
     "data": {
      "image/png": "[encoded data removed]",
      "text/plain": [
       "<Figure size 432x288 with 1 Axes>"
      ]
     },
     "metadata": {
      "needs_background": "light"
     },
     "output_type": "display_data"
    }
   ],
   "source": [
    "df_sm_tf.Label.value_counts().plot(kind='bar', title='Count (target)')"
   ]
  },
  {
   "cell_type": "markdown",
   "id": "south-things",
   "metadata": {},
   "source": [
    "### Modelling TF"
   ]
  },
  {
   "cell_type": "code",
   "execution_count": 352,
   "id": "domestic-soundtrack",
   "metadata": {
    "ExecuteTime": {
     "end_time": "2021-05-25T08:53:58.792442Z",
     "start_time": "2021-05-25T08:53:58.754212Z"
    },
    "scrolled": true
   },
   "outputs": [
    {
     "data": {
      "text/html": [
       "<div>\n",
       "<style scoped>\n",
       "    .dataframe tbody tr th:only-of-type {\n",
       "        vertical-align: middle;\n",
       "    }\n",
       "\n",
       "    .dataframe tbody tr th {\n",
       "        vertical-align: top;\n",
       "    }\n",
       "\n",
       "    .dataframe thead th {\n",
       "        text-align: right;\n",
       "    }\n",
       "</style>\n",
       "<table border=\"1\" class=\"dataframe\">\n",
       "  <thead>\n",
       "    <tr style=\"text-align: right;\">\n",
       "      <th></th>\n",
       "      <th>Label</th>\n",
       "      <th>Comment_Count</th>\n",
       "      <th>Operator_Count</th>\n",
       "      <th>SqlKeyword_Count</th>\n",
       "      <th>Any_Always_True</th>\n",
       "      <th>Any_SQL_Keyword</th>\n",
       "      <th>Semicolon_Count</th>\n",
       "      <th>select</th>\n",
       "      <th>union</th>\n",
       "      <th>concat</th>\n",
       "      <th>null</th>\n",
       "      <th>like</th>\n",
       "      <th>or</th>\n",
       "      <th>exec</th>\n",
       "      <th>and</th>\n",
       "      <th>having</th>\n",
       "      <th>char</th>\n",
       "      <th>order</th>\n",
       "    </tr>\n",
       "  </thead>\n",
       "  <tbody>\n",
       "    <tr>\n",
       "      <th>Label</th>\n",
       "      <td>1.000000</td>\n",
       "      <td>0.724749</td>\n",
       "      <td>0.160668</td>\n",
       "      <td>0.760120</td>\n",
       "      <td>0.326661</td>\n",
       "      <td>0.897758</td>\n",
       "      <td>0.096228</td>\n",
       "      <td>0.697360</td>\n",
       "      <td>0.638197</td>\n",
       "      <td>0.588683</td>\n",
       "      <td>0.417219</td>\n",
       "      <td>0.037139</td>\n",
       "      <td>0.112037</td>\n",
       "      <td>0.037139</td>\n",
       "      <td>0.338595</td>\n",
       "      <td>0.037139</td>\n",
       "      <td>0.087891</td>\n",
       "      <td>0.142757</td>\n",
       "    </tr>\n",
       "    <tr>\n",
       "      <th>Comment_Count</th>\n",
       "      <td>0.724749</td>\n",
       "      <td>1.000000</td>\n",
       "      <td>-0.030109</td>\n",
       "      <td>0.731185</td>\n",
       "      <td>-0.158798</td>\n",
       "      <td>0.755218</td>\n",
       "      <td>0.082258</td>\n",
       "      <td>0.414822</td>\n",
       "      <td>0.827889</td>\n",
       "      <td>0.680307</td>\n",
       "      <td>0.529593</td>\n",
       "      <td>0.050629</td>\n",
       "      <td>-0.081199</td>\n",
       "      <td>0.128174</td>\n",
       "      <td>-0.176576</td>\n",
       "      <td>-0.026916</td>\n",
       "      <td>-0.029290</td>\n",
       "      <td>0.194608</td>\n",
       "    </tr>\n",
       "    <tr>\n",
       "      <th>Operator_Count</th>\n",
       "      <td>0.160668</td>\n",
       "      <td>-0.030109</td>\n",
       "      <td>1.000000</td>\n",
       "      <td>0.020477</td>\n",
       "      <td>0.405518</td>\n",
       "      <td>0.149416</td>\n",
       "      <td>0.102058</td>\n",
       "      <td>0.209166</td>\n",
       "      <td>-0.097391</td>\n",
       "      <td>-0.105752</td>\n",
       "      <td>-0.075278</td>\n",
       "      <td>-0.006838</td>\n",
       "      <td>-0.016389</td>\n",
       "      <td>0.056404</td>\n",
       "      <td>0.463208</td>\n",
       "      <td>-0.006838</td>\n",
       "      <td>0.275663</td>\n",
       "      <td>-0.026285</td>\n",
       "    </tr>\n",
       "    <tr>\n",
       "      <th>SqlKeyword_Count</th>\n",
       "      <td>0.760120</td>\n",
       "      <td>0.731185</td>\n",
       "      <td>0.020477</td>\n",
       "      <td>1.000000</td>\n",
       "      <td>0.177817</td>\n",
       "      <td>0.846686</td>\n",
       "      <td>-0.056699</td>\n",
       "      <td>0.817310</td>\n",
       "      <td>0.860600</td>\n",
       "      <td>0.857289</td>\n",
       "      <td>0.515654</td>\n",
       "      <td>0.034961</td>\n",
       "      <td>0.197252</td>\n",
       "      <td>0.056025</td>\n",
       "      <td>-0.012652</td>\n",
       "      <td>0.056025</td>\n",
       "      <td>0.029773</td>\n",
       "      <td>-0.027546</td>\n",
       "    </tr>\n",
       "    <tr>\n",
       "      <th>Any_Always_True</th>\n",
       "      <td>0.326661</td>\n",
       "      <td>-0.158798</td>\n",
       "      <td>0.405518</td>\n",
       "      <td>0.177817</td>\n",
       "      <td>1.000000</td>\n",
       "      <td>0.204275</td>\n",
       "      <td>-0.035372</td>\n",
       "      <td>0.433731</td>\n",
       "      <td>-0.120620</td>\n",
       "      <td>0.011808</td>\n",
       "      <td>-0.134098</td>\n",
       "      <td>-0.012132</td>\n",
       "      <td>0.342977</td>\n",
       "      <td>0.113693</td>\n",
       "      <td>0.610164</td>\n",
       "      <td>0.113693</td>\n",
       "      <td>0.250448</td>\n",
       "      <td>-0.046633</td>\n",
       "    </tr>\n",
       "    <tr>\n",
       "      <th>Any_SQL_Keyword</th>\n",
       "      <td>0.897758</td>\n",
       "      <td>0.755218</td>\n",
       "      <td>0.149416</td>\n",
       "      <td>0.846686</td>\n",
       "      <td>0.204275</td>\n",
       "      <td>1.000000</td>\n",
       "      <td>0.057224</td>\n",
       "      <td>0.776779</td>\n",
       "      <td>0.710878</td>\n",
       "      <td>0.655725</td>\n",
       "      <td>0.464734</td>\n",
       "      <td>0.041369</td>\n",
       "      <td>0.124796</td>\n",
       "      <td>0.041369</td>\n",
       "      <td>0.172214</td>\n",
       "      <td>0.041369</td>\n",
       "      <td>0.097900</td>\n",
       "      <td>0.159015</td>\n",
       "    </tr>\n",
       "    <tr>\n",
       "      <th>Semicolon_Count</th>\n",
       "      <td>0.096228</td>\n",
       "      <td>0.082258</td>\n",
       "      <td>0.102058</td>\n",
       "      <td>-0.056699</td>\n",
       "      <td>-0.035372</td>\n",
       "      <td>0.057224</td>\n",
       "      <td>1.000000</td>\n",
       "      <td>0.040841</td>\n",
       "      <td>-0.102617</td>\n",
       "      <td>-0.108938</td>\n",
       "      <td>-0.073732</td>\n",
       "      <td>-0.006873</td>\n",
       "      <td>-0.020733</td>\n",
       "      <td>0.192711</td>\n",
       "      <td>-0.046556</td>\n",
       "      <td>-0.006873</td>\n",
       "      <td>-0.016264</td>\n",
       "      <td>-0.026418</td>\n",
       "    </tr>\n",
       "    <tr>\n",
       "      <th>select</th>\n",
       "      <td>0.697360</td>\n",
       "      <td>0.414822</td>\n",
       "      <td>0.209166</td>\n",
       "      <td>0.817310</td>\n",
       "      <td>0.433731</td>\n",
       "      <td>0.776779</td>\n",
       "      <td>0.040841</td>\n",
       "      <td>1.000000</td>\n",
       "      <td>0.570222</td>\n",
       "      <td>0.480692</td>\n",
       "      <td>0.272331</td>\n",
       "      <td>0.024242</td>\n",
       "      <td>0.308423</td>\n",
       "      <td>0.024242</td>\n",
       "      <td>0.245283</td>\n",
       "      <td>0.024242</td>\n",
       "      <td>0.168613</td>\n",
       "      <td>-0.099553</td>\n",
       "    </tr>\n",
       "    <tr>\n",
       "      <th>union</th>\n",
       "      <td>0.638197</td>\n",
       "      <td>0.827889</td>\n",
       "      <td>-0.097391</td>\n",
       "      <td>0.860600</td>\n",
       "      <td>-0.120620</td>\n",
       "      <td>0.710878</td>\n",
       "      <td>-0.102617</td>\n",
       "      <td>0.570222</td>\n",
       "      <td>1.000000</td>\n",
       "      <td>0.751287</td>\n",
       "      <td>0.565873</td>\n",
       "      <td>0.053985</td>\n",
       "      <td>0.006618</td>\n",
       "      <td>0.053985</td>\n",
       "      <td>-0.191019</td>\n",
       "      <td>-0.023702</td>\n",
       "      <td>-0.056092</td>\n",
       "      <td>-0.091107</td>\n",
       "    </tr>\n",
       "    <tr>\n",
       "      <th>concat</th>\n",
       "      <td>0.588683</td>\n",
       "      <td>0.680307</td>\n",
       "      <td>-0.105752</td>\n",
       "      <td>0.857289</td>\n",
       "      <td>0.011808</td>\n",
       "      <td>0.655725</td>\n",
       "      <td>-0.108938</td>\n",
       "      <td>0.480692</td>\n",
       "      <td>0.751287</td>\n",
       "      <td>1.000000</td>\n",
       "      <td>0.569201</td>\n",
       "      <td>0.024548</td>\n",
       "      <td>0.074054</td>\n",
       "      <td>-0.021863</td>\n",
       "      <td>-0.139413</td>\n",
       "      <td>0.024548</td>\n",
       "      <td>-0.051740</td>\n",
       "      <td>-0.084038</td>\n",
       "    </tr>\n",
       "    <tr>\n",
       "      <th>null</th>\n",
       "      <td>0.417219</td>\n",
       "      <td>0.529593</td>\n",
       "      <td>-0.075278</td>\n",
       "      <td>0.515654</td>\n",
       "      <td>-0.134098</td>\n",
       "      <td>0.464734</td>\n",
       "      <td>-0.073732</td>\n",
       "      <td>0.272331</td>\n",
       "      <td>0.565873</td>\n",
       "      <td>0.569201</td>\n",
       "      <td>1.000000</td>\n",
       "      <td>-0.015495</td>\n",
       "      <td>-0.046744</td>\n",
       "      <td>0.001946</td>\n",
       "      <td>-0.097646</td>\n",
       "      <td>-0.015495</td>\n",
       "      <td>-0.036670</td>\n",
       "      <td>-0.059561</td>\n",
       "    </tr>\n",
       "    <tr>\n",
       "      <th>like</th>\n",
       "      <td>0.037139</td>\n",
       "      <td>0.050629</td>\n",
       "      <td>-0.006838</td>\n",
       "      <td>0.034961</td>\n",
       "      <td>-0.012132</td>\n",
       "      <td>0.041369</td>\n",
       "      <td>-0.006873</td>\n",
       "      <td>0.024242</td>\n",
       "      <td>0.053985</td>\n",
       "      <td>0.024548</td>\n",
       "      <td>-0.015495</td>\n",
       "      <td>1.000000</td>\n",
       "      <td>-0.004161</td>\n",
       "      <td>-0.001379</td>\n",
       "      <td>-0.012575</td>\n",
       "      <td>-0.001379</td>\n",
       "      <td>-0.003264</td>\n",
       "      <td>-0.005302</td>\n",
       "    </tr>\n",
       "    <tr>\n",
       "      <th>or</th>\n",
       "      <td>0.112037</td>\n",
       "      <td>-0.081199</td>\n",
       "      <td>-0.016389</td>\n",
       "      <td>0.197252</td>\n",
       "      <td>0.342977</td>\n",
       "      <td>0.124796</td>\n",
       "      <td>-0.020733</td>\n",
       "      <td>0.308423</td>\n",
       "      <td>0.006618</td>\n",
       "      <td>0.074054</td>\n",
       "      <td>-0.046744</td>\n",
       "      <td>-0.004161</td>\n",
       "      <td>1.000000</td>\n",
       "      <td>-0.004161</td>\n",
       "      <td>-0.037935</td>\n",
       "      <td>0.331489</td>\n",
       "      <td>-0.009847</td>\n",
       "      <td>-0.015994</td>\n",
       "    </tr>\n",
       "    <tr>\n",
       "      <th>exec</th>\n",
       "      <td>0.037139</td>\n",
       "      <td>0.128174</td>\n",
       "      <td>0.056404</td>\n",
       "      <td>0.056025</td>\n",
       "      <td>0.113693</td>\n",
       "      <td>0.041369</td>\n",
       "      <td>0.192711</td>\n",
       "      <td>0.024242</td>\n",
       "      <td>0.053985</td>\n",
       "      <td>-0.021863</td>\n",
       "      <td>0.001946</td>\n",
       "      <td>-0.001379</td>\n",
       "      <td>-0.004161</td>\n",
       "      <td>1.000000</td>\n",
       "      <td>0.068217</td>\n",
       "      <td>-0.001379</td>\n",
       "      <td>-0.003264</td>\n",
       "      <td>-0.005302</td>\n",
       "    </tr>\n",
       "    <tr>\n",
       "      <th>and</th>\n",
       "      <td>0.338595</td>\n",
       "      <td>-0.176576</td>\n",
       "      <td>0.463208</td>\n",
       "      <td>-0.012652</td>\n",
       "      <td>0.610164</td>\n",
       "      <td>0.172214</td>\n",
       "      <td>-0.046556</td>\n",
       "      <td>0.245283</td>\n",
       "      <td>-0.191019</td>\n",
       "      <td>-0.139413</td>\n",
       "      <td>-0.097646</td>\n",
       "      <td>-0.012575</td>\n",
       "      <td>-0.037935</td>\n",
       "      <td>0.068217</td>\n",
       "      <td>1.000000</td>\n",
       "      <td>-0.012575</td>\n",
       "      <td>0.268987</td>\n",
       "      <td>-0.048337</td>\n",
       "    </tr>\n",
       "    <tr>\n",
       "      <th>having</th>\n",
       "      <td>0.037139</td>\n",
       "      <td>-0.026916</td>\n",
       "      <td>-0.006838</td>\n",
       "      <td>0.056025</td>\n",
       "      <td>0.113693</td>\n",
       "      <td>0.041369</td>\n",
       "      <td>-0.006873</td>\n",
       "      <td>0.024242</td>\n",
       "      <td>-0.023702</td>\n",
       "      <td>0.024548</td>\n",
       "      <td>-0.015495</td>\n",
       "      <td>-0.001379</td>\n",
       "      <td>0.331489</td>\n",
       "      <td>-0.001379</td>\n",
       "      <td>-0.012575</td>\n",
       "      <td>1.000000</td>\n",
       "      <td>-0.003264</td>\n",
       "      <td>-0.005302</td>\n",
       "    </tr>\n",
       "    <tr>\n",
       "      <th>char</th>\n",
       "      <td>0.087891</td>\n",
       "      <td>-0.029290</td>\n",
       "      <td>0.275663</td>\n",
       "      <td>0.029773</td>\n",
       "      <td>0.250448</td>\n",
       "      <td>0.097900</td>\n",
       "      <td>-0.016264</td>\n",
       "      <td>0.168613</td>\n",
       "      <td>-0.056092</td>\n",
       "      <td>-0.051740</td>\n",
       "      <td>-0.036670</td>\n",
       "      <td>-0.003264</td>\n",
       "      <td>-0.009847</td>\n",
       "      <td>-0.003264</td>\n",
       "      <td>0.268987</td>\n",
       "      <td>-0.003264</td>\n",
       "      <td>1.000000</td>\n",
       "      <td>-0.012547</td>\n",
       "    </tr>\n",
       "    <tr>\n",
       "      <th>order</th>\n",
       "      <td>0.142757</td>\n",
       "      <td>0.194608</td>\n",
       "      <td>-0.026285</td>\n",
       "      <td>-0.027546</td>\n",
       "      <td>-0.046633</td>\n",
       "      <td>0.159015</td>\n",
       "      <td>-0.026418</td>\n",
       "      <td>-0.099553</td>\n",
       "      <td>-0.091107</td>\n",
       "      <td>-0.084038</td>\n",
       "      <td>-0.059561</td>\n",
       "      <td>-0.005302</td>\n",
       "      <td>-0.015994</td>\n",
       "      <td>-0.005302</td>\n",
       "      <td>-0.048337</td>\n",
       "      <td>-0.005302</td>\n",
       "      <td>-0.012547</td>\n",
       "      <td>1.000000</td>\n",
       "    </tr>\n",
       "  </tbody>\n",
       "</table>\n",
       "</div>"
      ],
      "text/plain": [
       "                     Label  Comment_Count  Operator_Count  SqlKeyword_Count  \\\n",
       "Label             1.000000       0.724749        0.160668          0.760120   \n",
       "Comment_Count     0.724749       1.000000       -0.030109          0.731185   \n",
       "Operator_Count    0.160668      -0.030109        1.000000          0.020477   \n",
       "SqlKeyword_Count  0.760120       0.731185        0.020477          1.000000   \n",
       "Any_Always_True   0.326661      -0.158798        0.405518          0.177817   \n",
       "Any_SQL_Keyword   0.897758       0.755218        0.149416          0.846686   \n",
       "Semicolon_Count   0.096228       0.082258        0.102058         -0.056699   \n",
       "select            0.697360       0.414822        0.209166          0.817310   \n",
       "union             0.638197       0.827889       -0.097391          0.860600   \n",
       "concat            0.588683       0.680307       -0.105752          0.857289   \n",
       "null              0.417219       0.529593       -0.075278          0.515654   \n",
       "like              0.037139       0.050629       -0.006838          0.034961   \n",
       "or                0.112037      -0.081199       -0.016389          0.197252   \n",
       "exec              0.037139       0.128174        0.056404          0.056025   \n",
       "and               0.338595      -0.176576        0.463208         -0.012652   \n",
       "having            0.037139      -0.026916       -0.006838          0.056025   \n",
       "char              0.087891      -0.029290        0.275663          0.029773   \n",
       "order             0.142757       0.194608       -0.026285         -0.027546   \n",
       "\n",
       "                  Any_Always_True  Any_SQL_Keyword  Semicolon_Count    select  \\\n",
       "Label                    0.326661         0.897758         0.096228  0.697360   \n",
       "Comment_Count           -0.158798         0.755218         0.082258  0.414822   \n",
       "Operator_Count           0.405518         0.149416         0.102058  0.209166   \n",
       "SqlKeyword_Count         0.177817         0.846686        -0.056699  0.817310   \n",
       "Any_Always_True          1.000000         0.204275        -0.035372  0.433731   \n",
       "Any_SQL_Keyword          0.204275         1.000000         0.057224  0.776779   \n",
       "Semicolon_Count         -0.035372         0.057224         1.000000  0.040841   \n",
       "select                   0.433731         0.776779         0.040841  1.000000   \n",
       "union                   -0.120620         0.710878        -0.102617  0.570222   \n",
       "concat                   0.011808         0.655725        -0.108938  0.480692   \n",
       "null                    -0.134098         0.464734        -0.073732  0.272331   \n",
       "like                    -0.012132         0.041369        -0.006873  0.024242   \n",
       "or                       0.342977         0.124796        -0.020733  0.308423   \n",
       "exec                     0.113693         0.041369         0.192711  0.024242   \n",
       "and                      0.610164         0.172214        -0.046556  0.245283   \n",
       "having                   0.113693         0.041369        -0.006873  0.024242   \n",
       "char                     0.250448         0.097900        -0.016264  0.168613   \n",
       "order                   -0.046633         0.159015        -0.026418 -0.099553   \n",
       "\n",
       "                     union    concat      null      like        or      exec  \\\n",
       "Label             0.638197  0.588683  0.417219  0.037139  0.112037  0.037139   \n",
       "Comment_Count     0.827889  0.680307  0.529593  0.050629 -0.081199  0.128174   \n",
       "Operator_Count   -0.097391 -0.105752 -0.075278 -0.006838 -0.016389  0.056404   \n",
       "SqlKeyword_Count  0.860600  0.857289  0.515654  0.034961  0.197252  0.056025   \n",
       "Any_Always_True  -0.120620  0.011808 -0.134098 -0.012132  0.342977  0.113693   \n",
       "Any_SQL_Keyword   0.710878  0.655725  0.464734  0.041369  0.124796  0.041369   \n",
       "Semicolon_Count  -0.102617 -0.108938 -0.073732 -0.006873 -0.020733  0.192711   \n",
       "select            0.570222  0.480692  0.272331  0.024242  0.308423  0.024242   \n",
       "union             1.000000  0.751287  0.565873  0.053985  0.006618  0.053985   \n",
       "concat            0.751287  1.000000  0.569201  0.024548  0.074054 -0.021863   \n",
       "null              0.565873  0.569201  1.000000 -0.015495 -0.046744  0.001946   \n",
       "like              0.053985  0.024548 -0.015495  1.000000 -0.004161 -0.001379   \n",
       "or                0.006618  0.074054 -0.046744 -0.004161  1.000000 -0.004161   \n",
       "exec              0.053985 -0.021863  0.001946 -0.001379 -0.004161  1.000000   \n",
       "and              -0.191019 -0.139413 -0.097646 -0.012575 -0.037935  0.068217   \n",
       "having           -0.023702  0.024548 -0.015495 -0.001379  0.331489 -0.001379   \n",
       "char             -0.056092 -0.051740 -0.036670 -0.003264 -0.009847 -0.003264   \n",
       "order            -0.091107 -0.084038 -0.059561 -0.005302 -0.015994 -0.005302   \n",
       "\n",
       "                       and    having      char     order  \n",
       "Label             0.338595  0.037139  0.087891  0.142757  \n",
       "Comment_Count    -0.176576 -0.026916 -0.029290  0.194608  \n",
       "Operator_Count    0.463208 -0.006838  0.275663 -0.026285  \n",
       "SqlKeyword_Count -0.012652  0.056025  0.029773 -0.027546  \n",
       "Any_Always_True   0.610164  0.113693  0.250448 -0.046633  \n",
       "Any_SQL_Keyword   0.172214  0.041369  0.097900  0.159015  \n",
       "Semicolon_Count  -0.046556 -0.006873 -0.016264 -0.026418  \n",
       "select            0.245283  0.024242  0.168613 -0.099553  \n",
       "union            -0.191019 -0.023702 -0.056092 -0.091107  \n",
       "concat           -0.139413  0.024548 -0.051740 -0.084038  \n",
       "null             -0.097646 -0.015495 -0.036670 -0.059561  \n",
       "like             -0.012575 -0.001379 -0.003264 -0.005302  \n",
       "or               -0.037935  0.331489 -0.009847 -0.015994  \n",
       "exec              0.068217 -0.001379 -0.003264 -0.005302  \n",
       "and               1.000000 -0.012575  0.268987 -0.048337  \n",
       "having           -0.012575  1.000000 -0.003264 -0.005302  \n",
       "char              0.268987 -0.003264  1.000000 -0.012547  \n",
       "order            -0.048337 -0.005302 -0.012547  1.000000  "
      ]
     },
     "execution_count": 352,
     "metadata": {},
     "output_type": "execute_result"
    }
   ],
   "source": [
    "df_sm_tf.corr()"
   ]
  },
  {
   "cell_type": "code",
   "execution_count": 353,
   "id": "binary-startup",
   "metadata": {
    "ExecuteTime": {
     "end_time": "2021-05-25T08:54:06.067166Z",
     "start_time": "2021-05-25T08:54:05.748066Z"
    }
   },
   "outputs": [
    {
     "data": {
      "image/png": "[encoded data removed]",
      "text/plain": [
       "<Figure size 432x288 with 2 Axes>"
      ]
     },
     "metadata": {
      "needs_background": "light"
     },
     "output_type": "display_data"
    }
   ],
   "source": [
    "sns.heatmap(df_sm_tf.corr());"
   ]
  },
  {
   "cell_type": "markdown",
   "id": "confirmed-story",
   "metadata": {},
   "source": [
    "### ML Model"
   ]
  },
  {
   "cell_type": "code",
   "execution_count": 354,
   "id": "weighted-studio",
   "metadata": {
    "ExecuteTime": {
     "end_time": "2021-05-25T08:54:10.940545Z",
     "start_time": "2021-05-25T08:54:10.936556Z"
    }
   },
   "outputs": [],
   "source": [
    "classifiers = []\n",
    "\n",
    "model1 = xgboost.XGBClassifier()\n",
    "classifiers.append(model1)\n",
    "model2 = svm.SVC()\n",
    "classifiers.append(model2)\n",
    "model3 = tree.DecisionTreeClassifier()\n",
    "classifiers.append(model3)\n",
    "model4 = RandomForestClassifier()\n",
    "classifiers.append(model4)"
   ]
  },
  {
   "cell_type": "markdown",
   "id": "broken-nashville",
   "metadata": {},
   "source": [
    "#### Split Train, Validation, Test Data"
   ]
  },
  {
   "cell_type": "code",
   "execution_count": 355,
   "id": "boxed-insulin",
   "metadata": {
    "ExecuteTime": {
     "end_time": "2021-05-25T08:54:12.611455Z",
     "start_time": "2021-05-25T08:54:12.598489Z"
    }
   },
   "outputs": [],
   "source": [
    "X = df_sm_tf.drop(['Label'], axis=1)\n",
    "y = df_sm_tf['Label']\n",
    "X_train, X_test, y_train, y_test = train_test_split(X, y, test_size=0.2, random_state=0)\n",
    "X_train, X_val, y_train, y_val = train_test_split(X_train, y_train, test_size=0.2, random_state=0)"
   ]
  },
  {
   "cell_type": "code",
   "execution_count": 356,
   "id": "graduate-astronomy",
   "metadata": {
    "ExecuteTime": {
     "end_time": "2021-05-25T08:54:14.718131Z",
     "start_time": "2021-05-25T08:54:14.711188Z"
    }
   },
   "outputs": [
    {
     "data": {
      "text/plain": [
       "((928, 17), (233, 17), (291, 17))"
      ]
     },
     "execution_count": 356,
     "metadata": {},
     "output_type": "execute_result"
    }
   ],
   "source": [
    "X_train.shape, X_val.shape, X_test.shape"
   ]
  },
  {
   "cell_type": "code",
   "execution_count": 357,
   "id": "underlying-worthy",
   "metadata": {
    "ExecuteTime": {
     "end_time": "2021-05-25T08:54:16.302856Z",
     "start_time": "2021-05-25T08:54:16.286002Z"
    }
   },
   "outputs": [],
   "source": [
    "df_sm_tf.to_csv('data_train_tf.csv')"
   ]
  },
  {
   "cell_type": "markdown",
   "id": "german-mistake",
   "metadata": {},
   "source": [
    "#### Find best ML Predictor"
   ]
  },
  {
   "cell_type": "code",
   "execution_count": 358,
   "id": "foster-content",
   "metadata": {
    "ExecuteTime": {
     "end_time": "2021-05-25T08:54:17.878357Z",
     "start_time": "2021-05-25T08:54:17.874255Z"
    }
   },
   "outputs": [],
   "source": [
    "classifiers = []\n",
    "\n",
    "model1 = xgboost.XGBClassifier()\n",
    "classifiers.append(model1)\n",
    "model2 = svm.SVC()\n",
    "classifiers.append(model2)\n",
    "model3 = tree.DecisionTreeClassifier()\n",
    "classifiers.append(model3)\n",
    "model4 = RandomForestClassifier()\n",
    "classifiers.append(model4)"
   ]
  },
  {
   "cell_type": "code",
   "execution_count": 359,
   "id": "decreased-gibson",
   "metadata": {
    "ExecuteTime": {
     "end_time": "2021-05-25T08:54:20.663298Z",
     "start_time": "2021-05-25T08:54:20.658293Z"
    }
   },
   "outputs": [
    {
     "data": {
      "text/plain": [
       "((233, 17), (236,))"
      ]
     },
     "execution_count": 359,
     "metadata": {},
     "output_type": "execute_result"
    }
   ],
   "source": [
    "X_val.shape, y_pred1.shape"
   ]
  },
  {
   "cell_type": "code",
   "execution_count": 360,
   "id": "overhead-chapter",
   "metadata": {
    "ExecuteTime": {
     "end_time": "2021-05-25T08:54:21.990653Z",
     "start_time": "2021-05-25T08:54:21.984072Z"
    }
   },
   "outputs": [
    {
     "data": {
      "text/plain": [
       "((233,), (236,))"
      ]
     },
     "execution_count": 360,
     "metadata": {},
     "output_type": "execute_result"
    }
   ],
   "source": [
    "y_val.shape, y_pred1.shape"
   ]
  },
  {
   "cell_type": "code",
   "execution_count": 361,
   "id": "sustained-emerald",
   "metadata": {
    "ExecuteTime": {
     "end_time": "2021-05-25T08:54:25.722675Z",
     "start_time": "2021-05-25T08:54:25.473992Z"
    }
   },
   "outputs": [
    {
     "name": "stdout",
     "output_type": "stream",
     "text": [
      "Accuracy using Validation data of XGBClassifier() is 0.9871244635193133\n",
      "Accuracy using Test data of XGBClassifier() is 0.9828178694158075\n",
      "Accuracy using Validation data of SVC() is 0.9871244635193133\n",
      "Accuracy using Test data of SVC() is 0.979381443298969\n",
      "Accuracy using Validation data of DecisionTreeClassifier() is 0.9871244635193133\n",
      "Accuracy using Test data of DecisionTreeClassifier() is 0.9862542955326461\n",
      "Accuracy using Validation data of RandomForestClassifier() is 0.9871244635193133\n",
      "Accuracy using Test data of RandomForestClassifier() is 0.9862542955326461\n"
     ]
    }
   ],
   "source": [
    "# Evalueagte using Validation data\n",
    "for clf in classifiers:\n",
    "    clf.fit(X_train, y_train)\n",
    "    y_pred1 = clf.predict(X_val)\n",
    "    y_pred2 = clf.predict(X_test)\n",
    "    acc1 = accuracy_score(y_val, y_pred1)\n",
    "    acc2 = accuracy_score(y_test, y_pred2)\n",
    "    print(\"Accuracy using Validation data of %s is %s\"%(clf, acc1))\n",
    "    print(\"Accuracy using Test data of %s is %s\"%(clf, acc2))\n",
    "    \n",
    "    cm = confusion_matrix(y_val, y_pred1)\n",
    "    # print(\"Confusion Matrix of %s is %s\"%(clf, cm))"
   ]
  },
  {
   "cell_type": "markdown",
   "id": "bored-upset",
   "metadata": {},
   "source": [
    "#### Using Decision Tree with Cross Validation"
   ]
  },
  {
   "cell_type": "code",
   "execution_count": 362,
   "id": "natural-perth",
   "metadata": {
    "ExecuteTime": {
     "end_time": "2021-05-25T08:55:16.418003Z",
     "start_time": "2021-05-25T08:55:16.410012Z"
    }
   },
   "outputs": [],
   "source": [
    "X = df_sm_tf.drop(['Label'], axis=1)\n",
    "y = df_sm_tf['Label']\n",
    "X_train, X_test, y_train, y_test = train_test_split(X, y, test_size=0.2, random_state=0)"
   ]
  },
  {
   "cell_type": "code",
   "execution_count": 363,
   "id": "greatest-drunk",
   "metadata": {
    "ExecuteTime": {
     "end_time": "2021-05-25T08:55:18.209852Z",
     "start_time": "2021-05-25T08:55:18.153920Z"
    }
   },
   "outputs": [
    {
     "name": "stdout",
     "output_type": "stream",
     "text": [
      "[0.97854077 0.98706897 0.98706897 0.99137931 0.99137931]\n",
      "Accuracy of DecisionTreeClassifier() is 0.9862542955326461\n",
      "              precision    recall  f1-score   support\n",
      "\n",
      "     class 0       0.97      1.00      0.99       146\n",
      "     class 1       1.00      0.97      0.99       145\n",
      "\n",
      "    accuracy                           0.99       291\n",
      "   macro avg       0.99      0.99      0.99       291\n",
      "weighted avg       0.99      0.99      0.99       291\n",
      "\n"
     ]
    }
   ],
   "source": [
    "clf = tree.DecisionTreeClassifier()\n",
    "scores = cross_val_score(clf, X_train, y_train, cv=5)\n",
    "print(scores)\n",
    "mod = clf.fit(X_train, y_train)\n",
    "y_pred = mod.predict(X_test)\n",
    "acc = accuracy_score(y_test, y_pred)\n",
    "print(\"Accuracy of %s is %s\"%(clf, acc))\n",
    "target_names = ['class 0', 'class 1']\n",
    "print(classification_report(y_test, y_pred, target_names=target_names))"
   ]
  },
  {
   "cell_type": "markdown",
   "id": "talented-annex",
   "metadata": {},
   "source": [
    "#### Save Model"
   ]
  },
  {
   "cell_type": "code",
   "execution_count": 393,
   "id": "imposed-replacement",
   "metadata": {
    "ExecuteTime": {
     "end_time": "2021-05-25T09:03:17.278218Z",
     "start_time": "2021-05-25T09:03:17.273052Z"
    }
   },
   "outputs": [],
   "source": [
    "# save the model to disk\n",
    "filename = 'finalized_model_sqli.pkl'\n",
    "pickle.dump(mod, open(filename, 'wb'))"
   ]
  },
  {
   "cell_type": "markdown",
   "id": "exterior-transcription",
   "metadata": {},
   "source": [
    "### Test With New Data"
   ]
  },
  {
   "cell_type": "markdown",
   "id": "impressive-optics",
   "metadata": {},
   "source": [
    "#### Load Model"
   ]
  },
  {
   "cell_type": "code",
   "execution_count": 394,
   "id": "after-cheat",
   "metadata": {
    "ExecuteTime": {
     "end_time": "2021-05-25T09:03:19.187276Z",
     "start_time": "2021-05-25T09:03:19.181347Z"
    }
   },
   "outputs": [],
   "source": [
    "filename = 'finalized_model_sqli.pkl'\n",
    "loaded_model = pickle.load(open(filename, 'rb'))"
   ]
  },
  {
   "cell_type": "markdown",
   "id": "sustained-eclipse",
   "metadata": {},
   "source": [
    "#### Test Data"
   ]
  },
  {
   "cell_type": "code",
   "execution_count": 383,
   "id": "alert-thing",
   "metadata": {
    "ExecuteTime": {
     "end_time": "2021-05-25T09:02:32.164619Z",
     "start_time": "2021-05-25T09:02:32.159385Z"
    }
   },
   "outputs": [],
   "source": [
    "data = \"\"\" 36.72.215.113 - - [23/Apr/2021:02:34:56 +0000] \"GET /mod.php?kategori=lounge&id=4%29%20AND%206613%3D6613%20AND%20%286598%3D6598 HTTP/1.1\" 200 2092 \"-\" \"sqlmap/1.5.2#stable (http://sqlmap.org)\"\n",
    " \"\"\""
   ]
  },
  {
   "cell_type": "code",
   "execution_count": 384,
   "id": "about-destination",
   "metadata": {
    "ExecuteTime": {
     "end_time": "2021-05-25T09:02:33.737670Z",
     "start_time": "2021-05-25T09:02:33.731631Z"
    }
   },
   "outputs": [],
   "source": [
    "data1 = {'Log':  [data],\n",
    "        'Label': 1}\n",
    "\n",
    "df1 = pd.DataFrame (data1, columns = ['Log','Label'])"
   ]
  },
  {
   "cell_type": "code",
   "execution_count": 387,
   "id": "warming-chemical",
   "metadata": {
    "ExecuteTime": {
     "end_time": "2021-05-25T09:02:51.003450Z",
     "start_time": "2021-05-25T09:02:50.995469Z"
    }
   },
   "outputs": [
    {
     "data": {
      "text/html": [
       "<div>\n",
       "<style scoped>\n",
       "    .dataframe tbody tr th:only-of-type {\n",
       "        vertical-align: middle;\n",
       "    }\n",
       "\n",
       "    .dataframe tbody tr th {\n",
       "        vertical-align: top;\n",
       "    }\n",
       "\n",
       "    .dataframe thead th {\n",
       "        text-align: right;\n",
       "    }\n",
       "</style>\n",
       "<table border=\"1\" class=\"dataframe\">\n",
       "  <thead>\n",
       "    <tr style=\"text-align: right;\">\n",
       "      <th></th>\n",
       "      <th>Log</th>\n",
       "      <th>Label</th>\n",
       "    </tr>\n",
       "  </thead>\n",
       "  <tbody>\n",
       "    <tr>\n",
       "      <th>0</th>\n",
       "      <td>36.72.215.113 - - [23/Apr/2021:02:34:56 +0000] \"GET /mod.php?kategori=lounge&amp;id=4%29%20AND%2066...</td>\n",
       "      <td>1</td>\n",
       "    </tr>\n",
       "  </tbody>\n",
       "</table>\n",
       "</div>"
      ],
      "text/plain": [
       "                                                                                                   Log  \\\n",
       "0   36.72.215.113 - - [23/Apr/2021:02:34:56 +0000] \"GET /mod.php?kategori=lounge&id=4%29%20AND%2066...   \n",
       "\n",
       "   Label  \n",
       "0      1  "
      ]
     },
     "execution_count": 387,
     "metadata": {},
     "output_type": "execute_result"
    }
   ],
   "source": [
    "df1"
   ]
  },
  {
   "cell_type": "code",
   "execution_count": 388,
   "id": "pretty-jenny",
   "metadata": {
    "ExecuteTime": {
     "end_time": "2021-05-25T09:02:52.183435Z",
     "start_time": "2021-05-25T09:02:52.152780Z"
    }
   },
   "outputs": [],
   "source": [
    "# Pipeline to preprocess, split, and feature engineering\n",
    "test_tf = pipeline(df1)"
   ]
  },
  {
   "cell_type": "code",
   "execution_count": 389,
   "id": "educated-context",
   "metadata": {
    "ExecuteTime": {
     "end_time": "2021-05-25T09:02:53.619204Z",
     "start_time": "2021-05-25T09:02:53.603042Z"
    }
   },
   "outputs": [
    {
     "data": {
      "text/html": [
       "<div>\n",
       "<style scoped>\n",
       "    .dataframe tbody tr th:only-of-type {\n",
       "        vertical-align: middle;\n",
       "    }\n",
       "\n",
       "    .dataframe tbody tr th {\n",
       "        vertical-align: top;\n",
       "    }\n",
       "\n",
       "    .dataframe thead th {\n",
       "        text-align: right;\n",
       "    }\n",
       "</style>\n",
       "<table border=\"1\" class=\"dataframe\">\n",
       "  <thead>\n",
       "    <tr style=\"text-align: right;\">\n",
       "      <th></th>\n",
       "      <th>Label</th>\n",
       "      <th>Ip</th>\n",
       "      <th>Time</th>\n",
       "      <th>Request2</th>\n",
       "      <th>Comment_Count</th>\n",
       "      <th>Operator_Count</th>\n",
       "      <th>SqlKeyword_Count</th>\n",
       "      <th>Any_Always_True</th>\n",
       "      <th>Any_SQL_Keyword</th>\n",
       "      <th>Semicolon_Count</th>\n",
       "      <th>select</th>\n",
       "      <th>union</th>\n",
       "      <th>concat</th>\n",
       "      <th>null</th>\n",
       "      <th>like</th>\n",
       "      <th>or</th>\n",
       "      <th>exec</th>\n",
       "      <th>and</th>\n",
       "      <th>having</th>\n",
       "      <th>char</th>\n",
       "      <th>order</th>\n",
       "    </tr>\n",
       "  </thead>\n",
       "  <tbody>\n",
       "    <tr>\n",
       "      <th>0</th>\n",
       "      <td>1</td>\n",
       "      <td>36.72.215.113</td>\n",
       "      <td>[23/Apr/2021:02:34:56 +0000]</td>\n",
       "      <td>?kategori=lounge&amp;id=4) and 6613=6613 and (6598=6598</td>\n",
       "      <td>0</td>\n",
       "      <td>0</td>\n",
       "      <td>0</td>\n",
       "      <td>True</td>\n",
       "      <td>False</td>\n",
       "      <td>0</td>\n",
       "      <td>0</td>\n",
       "      <td>0</td>\n",
       "      <td>0</td>\n",
       "      <td>0</td>\n",
       "      <td>0</td>\n",
       "      <td>0</td>\n",
       "      <td>0</td>\n",
       "      <td>2</td>\n",
       "      <td>0</td>\n",
       "      <td>0</td>\n",
       "      <td>0</td>\n",
       "    </tr>\n",
       "  </tbody>\n",
       "</table>\n",
       "</div>"
      ],
      "text/plain": [
       "   Label              Ip                          Time  \\\n",
       "0      1   36.72.215.113  [23/Apr/2021:02:34:56 +0000]   \n",
       "\n",
       "                                               Request2  Comment_Count  \\\n",
       "0  ?kategori=lounge&id=4) and 6613=6613 and (6598=6598               0   \n",
       "\n",
       "   Operator_Count  SqlKeyword_Count  Any_Always_True  Any_SQL_Keyword  \\\n",
       "0               0                 0             True            False   \n",
       "\n",
       "   Semicolon_Count  select  union  concat  null  like  or  exec  and  having  \\\n",
       "0                0       0      0       0     0     0   0     0    2       0   \n",
       "\n",
       "   char  order  \n",
       "0     0      0  "
      ]
     },
     "execution_count": 389,
     "metadata": {},
     "output_type": "execute_result"
    }
   ],
   "source": [
    "test_tf"
   ]
  },
  {
   "cell_type": "code",
   "execution_count": 390,
   "id": "angry-investor",
   "metadata": {
    "ExecuteTime": {
     "end_time": "2021-05-25T09:03:01.465911Z",
     "start_time": "2021-05-25T09:03:01.461942Z"
    }
   },
   "outputs": [],
   "source": [
    "test_tf = test_tf.iloc[:,4:]"
   ]
  },
  {
   "cell_type": "code",
   "execution_count": 391,
   "id": "proof-scholar",
   "metadata": {
    "ExecuteTime": {
     "end_time": "2021-05-25T09:03:02.381965Z",
     "start_time": "2021-05-25T09:03:02.368683Z"
    }
   },
   "outputs": [
    {
     "data": {
      "text/html": [
       "<div>\n",
       "<style scoped>\n",
       "    .dataframe tbody tr th:only-of-type {\n",
       "        vertical-align: middle;\n",
       "    }\n",
       "\n",
       "    .dataframe tbody tr th {\n",
       "        vertical-align: top;\n",
       "    }\n",
       "\n",
       "    .dataframe thead th {\n",
       "        text-align: right;\n",
       "    }\n",
       "</style>\n",
       "<table border=\"1\" class=\"dataframe\">\n",
       "  <thead>\n",
       "    <tr style=\"text-align: right;\">\n",
       "      <th></th>\n",
       "      <th>Comment_Count</th>\n",
       "      <th>Operator_Count</th>\n",
       "      <th>SqlKeyword_Count</th>\n",
       "      <th>Any_Always_True</th>\n",
       "      <th>Any_SQL_Keyword</th>\n",
       "      <th>Semicolon_Count</th>\n",
       "      <th>select</th>\n",
       "      <th>union</th>\n",
       "      <th>concat</th>\n",
       "      <th>null</th>\n",
       "      <th>like</th>\n",
       "      <th>or</th>\n",
       "      <th>exec</th>\n",
       "      <th>and</th>\n",
       "      <th>having</th>\n",
       "      <th>char</th>\n",
       "      <th>order</th>\n",
       "    </tr>\n",
       "  </thead>\n",
       "  <tbody>\n",
       "    <tr>\n",
       "      <th>0</th>\n",
       "      <td>0</td>\n",
       "      <td>0</td>\n",
       "      <td>0</td>\n",
       "      <td>True</td>\n",
       "      <td>False</td>\n",
       "      <td>0</td>\n",
       "      <td>0</td>\n",
       "      <td>0</td>\n",
       "      <td>0</td>\n",
       "      <td>0</td>\n",
       "      <td>0</td>\n",
       "      <td>0</td>\n",
       "      <td>0</td>\n",
       "      <td>2</td>\n",
       "      <td>0</td>\n",
       "      <td>0</td>\n",
       "      <td>0</td>\n",
       "    </tr>\n",
       "  </tbody>\n",
       "</table>\n",
       "</div>"
      ],
      "text/plain": [
       "   Comment_Count  Operator_Count  SqlKeyword_Count  Any_Always_True  \\\n",
       "0              0               0                 0             True   \n",
       "\n",
       "   Any_SQL_Keyword  Semicolon_Count  select  union  concat  null  like  or  \\\n",
       "0            False                0       0      0       0     0     0   0   \n",
       "\n",
       "   exec  and  having  char  order  \n",
       "0     0    2       0     0      0  "
      ]
     },
     "execution_count": 391,
     "metadata": {},
     "output_type": "execute_result"
    }
   ],
   "source": [
    "test_tf"
   ]
  },
  {
   "cell_type": "code",
   "execution_count": 395,
   "id": "curious-accreditation",
   "metadata": {
    "ExecuteTime": {
     "end_time": "2021-05-25T09:03:22.008532Z",
     "start_time": "2021-05-25T09:03:21.999869Z"
    },
    "scrolled": true
   },
   "outputs": [
    {
     "data": {
      "text/plain": [
       "array([1], dtype=int64)"
      ]
     },
     "execution_count": 395,
     "metadata": {},
     "output_type": "execute_result"
    }
   ],
   "source": [
    "loaded_model.predict(test_tf)"
   ]
  }
 ],
 "metadata": {
  "kernelspec": {
   "display_name": "Python 3",
   "language": "python",
   "name": "python3"
  },
  "language_info": {
   "codemirror_mode": {
    "name": "ipython",
    "version": 3
   },
   "file_extension": ".py",
   "mimetype": "text/x-python",
   "name": "python",
   "nbconvert_exporter": "python",
   "pygments_lexer": "ipython3",
   "version": "3.6.12"
  },
  "toc": {
   "base_numbering": 1,
   "nav_menu": {},
   "number_sections": true,
   "sideBar": true,
   "skip_h1_title": false,
   "title_cell": "Table of Contents",
   "title_sidebar": "Contents",
   "toc_cell": false,
   "toc_position": {
    "height": "calc(100% - 180px)",
    "left": "10px",
    "top": "150px",
    "width": "341.333px"
   },
   "toc_section_display": true,
   "toc_window_display": true
  }
 },
 "nbformat": 4,
 "nbformat_minor": 5
}
